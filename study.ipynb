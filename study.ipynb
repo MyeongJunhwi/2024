{
 "cells": [
  {
   "cell_type": "markdown",
   "id": "ff15dd89-7ab1-4a26-9a27-b295c657d924",
   "metadata": {},
   "source": [
    "# 1. 시간복잡도 - 점근적 표기"
   ]
  },
  {
   "cell_type": "markdown",
   "id": "fed3513e-8f8d-424f-a787-b0b1acee5bdb",
   "metadata": {},
   "source": [
    "## 함수 f(n) = a1n + a0, 양의 정수 c, n0가 주어질 경우 O(n) 정의를 만족하는지 알아보자.\n",
    "O(g(n)) = {f(n) | 모든 n ≥ n0에 대하여 f(n) ≤ c × g(n)인 양의 상수 c와 n0가 존재한다}\n",
    "\n",
    "예제1. f(n) = 7n + 7, g(n) = n, c = 8, n0 = 1이다. f(1) = 14, c × g(1) = 8이므로 O(n) 정의를 만족하지 못한다.\n",
    "\n",
    "예제2. f(n) = 7n + 7, g(n) = n, c = 8, n0 = 10이다. 모든 n ≥ 10에 대하여 7n + 7 ≤ 8n 이므로 O(n) 정의를 만족한다."
   ]
  },
  {
   "cell_type": "markdown",
   "id": "f41ea1d0-cab6-4f48-a923-bae74f34cf58",
   "metadata": {},
   "source": [
    "### 문제 풀이 \n",
    "n0보다 큰 모든 n에 대해서 f(n) <= c*g(n)을 만족시켜야 함 => f(n)이 일차함수 꼴이므로 일차함수의 성질을 생각해야 함.\n",
    "\n",
    "일차함수는 f의 초기값 < g의 초기값 , f의 기울기 < g의 기울기 이면 f<g를 만족함.\n",
    "\n",
    "따라서 여기서도 초기값과 기울기에 대한 것을 생각해야 함.\n",
    "\n",
    "초기값 조건 : a1*n0+a0 <= c*n0\n",
    "\n",
    "기울기 조건 : a1<=c"
   ]
  },
  {
   "cell_type": "code",
   "execution_count": null,
   "id": "ee0f4641-d106-4534-86e4-6c8aface53d5",
   "metadata": {},
   "outputs": [],
   "source": [
    "a1, a0 = map(int, input().split())\n",
    "c = int(input())\n",
    "n0 = int(input())\n",
    "x = 0\n",
    "if (a1*n0+a0 <= c*n0) and (a1 <= c):\n",
    "    x = 1\n",
    "print(x)"
   ]
  },
  {
   "cell_type": "markdown",
   "id": "383a87a7-df39-4f78-9d86-d840f32fd5c9",
   "metadata": {},
   "source": [
    "# 4. 큐\n",
    "## 정수를 저장하는 큐를 구현한 다음, 입력으로 주어지는 명령을 처리하는 프로그램을 작성하시오.\r\n",
    "\r\n",
    "명령은 총 여섯 가지이다.\r\n",
    "\r\n",
    "push X: 정수 에 넣음\n",
    "\n",
    "pop: 큐에서 가장 앞에 있는 정수를 빼고, 그 수를 출력한다. 만약 큐에 들어있는 정수가 없는 경우에는 -1을 출력\n",
    "\n",
    "size: 큐에 들어있는 정수의 개수를 출력\n",
    "\n",
    "empty: 큐가 비어있으면 1, 아니면 0을 출력\n",
    "\n",
    "front: 큐의 가장 앞에 있는 정수를 출력한다. 만약 큐에 들어있는 정수가 없는 경우에는 -1을 출력\n",
    "\n",
    "back: 큐의 가장 뒤에 있는 정수를 출력한다. 만약 큐에 들어있는 정수가 없는 경우에는 -1을 출력-1을 출력한다."
   ]
  },
  {
   "cell_type": "markdown",
   "id": "98e2c8f0-b119-4fcf-ad40-090c218a1e07",
   "metadata": {},
   "source": [
    "### 초기 문제 풀이\n",
    "BUT 시간초과 이슈가 있었음"
   ]
  },
  {
   "cell_type": "code",
   "execution_count": null,
   "id": "60baa99a-3dc7-4278-8009-f5f31e071ff6",
   "metadata": {},
   "outputs": [],
   "source": [
    "n = int(input())\n",
    "queue = []\n",
    "\n",
    "for i in range(0,n):\n",
    "    order = input()\n",
    "    \n",
    "if order == 'push X':\n",
    "    x = int(order[5])\n",
    "    queue = queue.append(x)\n",
    "    print(x)\n",
    "    \n",
    "if order == 'pop':\n",
    "    if len(queue) == 0:\n",
    "        print(-1)\n",
    "    else:\n",
    "        print(queue[0])\n",
    "        del queue[0]\n",
    "        \n",
    "if order == 'size':\n",
    "    print(len(queue))\n",
    "    \n",
    "if order == 'empty':\n",
    "    if len(queue) == 0 :\n",
    "        print(1)\n",
    "    else:\n",
    "        print(0)\n",
    "        \n",
    "if order == 'front':\n",
    "    if len(queue) == 0:\n",
    "        print(-1)\n",
    "    else:\n",
    "        print(queue[0])\n",
    "        \n",
    "if order == 'back':\n",
    "    if len(queue) == 0:\n",
    "        print(-1)\n",
    "    else:\n",
    "        print(queue[-1])"
   ]
  },
  {
   "cell_type": "markdown",
   "id": "6b4441c1-5e32-4d89-a502-0801993609ef",
   "metadata": {},
   "source": [
    "### 최종 문제 풀이\n",
    "입력받는 게 너무 많을 때에는 시간을 초과할 수도 있기 때문에 그냥 input이 아닌 sys을 이용해서 입력받는 것으로 수정"
   ]
  },
  {
   "cell_type": "code",
   "execution_count": null,
   "id": "d58f1c53-d015-4a79-b373-cc55f7c793a3",
   "metadata": {},
   "outputs": [],
   "source": [
    "import sys\n",
    "input = sys.stdin.read\n",
    "data = input().split('\\n')\n",
    "\n",
    "n = int(data[0])\n",
    "queue = []\n",
    "\n",
    "for i in range(1, n + 1):\n",
    "    order = data[i].split()\n",
    "\n",
    "    if order[0] == 'push':\n",
    "        x = int(order[1])\n",
    "        queue.append(x)\n",
    "\n",
    "    elif order[0] == 'pop':\n",
    "        if len(queue) == 0:\n",
    "            print(-1)\n",
    "        else:\n",
    "            print(queue[0])\n",
    "            queue.pop(0)\n",
    "\n",
    "    elif order[0] == 'size':\n",
    "        print(len(queue))\n",
    "\n",
    "    elif order[0] == 'empty':\n",
    "        if len(queue) == 0:\n",
    "            print(1)\n",
    "        else:\n",
    "            print(0)\n",
    "\n",
    "    elif order[0] == 'front':\n",
    "        if len(queue) == 0:\n",
    "            print(-1)\n",
    "        else:\n",
    "            print(queue[0])\n",
    "\n",
    "    elif order[0] == 'back':\n",
    "        if len(queue) == 0:\n",
    "            print(-1)\n",
    "        else:\n",
    "            print(queue[-1])\n"
   ]
  },
  {
   "cell_type": "markdown",
   "id": "2a004647-d7ae-4d71-b33a-ffe3f7baf097",
   "metadata": {},
   "source": [
    "# 5. 스택"
   ]
  },
  {
   "cell_type": "markdown",
   "id": "883987b4-8d08-4ca9-aa9b-0bf1ea4ca132",
   "metadata": {},
   "source": [
    "## 정수를 저장하는 스택을 구현한 다음, 입력으로 주어지는 명령을 처리하는 프로그램을 작성하시오.\r",
    "명령은 총 다섯 가지이다.\n",
    "\n",
    "push X: 정수 X를 스택에 넣는 연산이다.\n",
    "\n",
    "pop: 스택에서 가장 위에 있는 정수를 빼고, 그 수를 출력한다. 만약 스택에 들어있는 정수가 없는 경우에는 -1을 출력한다.\n",
    "\n",
    "size: 스택에 들어있는 정수의 개수를 출력한다.\n",
    "\n",
    "empty: 스택이 비어있으면 1, 아니면 0을 출력한다.\n",
    "\n",
    "top: 스택의 가장 위에 있는 정수를 출력한다. 만약 스택에 들어있는 정수가 없는 경우에는 -1을 출력한다.1을 출력한다."
   ]
  },
  {
   "cell_type": "markdown",
   "id": "d25ff4ac-6ee6-4983-970b-82fdb356c930",
   "metadata": {},
   "source": [
    "### 초기 문제 풀이\n",
    "stack이라서 먼저 들어온 게 점점 뒤로 가는 list를 만들기 위해 reverse를 사용했으나 오류가 있었음"
   ]
  },
  {
   "cell_type": "code",
   "execution_count": null,
   "id": "07f448bd-c78e-4c57-8bc4-044d0896807a",
   "metadata": {},
   "outputs": [],
   "source": [
    "import sys\n",
    "input = sys.stdin.read\n",
    "data = input().split('\\n')\n",
    "\n",
    "n = int(data[0])\n",
    "stack = []\n",
    "\n",
    "for i in range(1, n + 1):\n",
    "    order = data[i].split()\n",
    "\n",
    "    if order[0] == 'push':\n",
    "        x = int(order[1])\n",
    "        stack.append(x)\n",
    "        stack.reverse()\n",
    "\n",
    "    elif order[0] == 'pop':\n",
    "        if len(stack) == 0:\n",
    "            print(-1)\n",
    "        else:\n",
    "            print(stack[0])\n",
    "            stack.pop(0)\n",
    "\n",
    "    elif order[0] == 'size':\n",
    "        print(len(stack))\n",
    "\n",
    "    elif order[0] == 'empty':\n",
    "        if len(stack) == 0:\n",
    "            print(1)\n",
    "        else:\n",
    "            print(0)\n",
    "\n",
    "    elif order[0] == 'top':\n",
    "        if len(stack) == 0:\n",
    "            print(-1)\n",
    "        else:\n",
    "            print(stack[0])"
   ]
  },
  {
   "cell_type": "markdown",
   "id": "0c9ab013-7aa6-4752-abcf-7ee75b1bb126",
   "metadata": {},
   "source": [
    "### 최종 문제 풀이\n",
    "reverse 대신 그저 리스트의 맨마지막 원소를 추출해내는 걸로 바꾸었더니 문제가 해결됨"
   ]
  },
  {
   "cell_type": "code",
   "execution_count": null,
   "id": "675c5297-e75e-40f9-a652-335b6c450a66",
   "metadata": {},
   "outputs": [],
   "source": [
    "import sys\n",
    "input = sys.stdin.read\n",
    "data = input().split('\\n')\n",
    "\n",
    "n = int(data[0])\n",
    "stack = []\n",
    "\n",
    "for i in range(1, n + 1):\n",
    "    order = data[i].split()\n",
    "\n",
    "    if order[0] == 'push':\n",
    "        x = int(order[1])\n",
    "        stack.append(x)\n",
    "\n",
    "    elif order[0] == 'pop':\n",
    "        if len(stack) == 0:\n",
    "            print(-1)\n",
    "        else:\n",
    "            print(stack[-1])\n",
    "            stack.pop(-1)\n",
    "\n",
    "    elif order[0] == 'size':\n",
    "        print(len(stack))\n",
    "\n",
    "    elif order[0] == 'empty':\n",
    "        if len(stack) == 0:\n",
    "            print(1)\n",
    "        else:\n",
    "            print(0)\n",
    "\n",
    "    elif order[0] == 'top':\n",
    "        if len(stack) == 0:\n",
    "            print(-1)\n",
    "        else:\n",
    "            print(stack[-1])"
   ]
  },
  {
   "cell_type": "code",
   "execution_count": null,
   "id": "e4e34c98-b94d-4c73-9199-4644b894b4fc",
   "metadata": {},
   "outputs": [],
   "source": []
  }
 ],
 "metadata": {
  "kernelspec": {
   "display_name": "Python 3 (ipykernel)",
   "language": "python",
   "name": "python3"
  },
  "language_info": {
   "codemirror_mode": {
    "name": "ipython",
    "version": 3
   },
   "file_extension": ".py",
   "mimetype": "text/x-python",
   "name": "python",
   "nbconvert_exporter": "python",
   "pygments_lexer": "ipython3",
   "version": "3.11.7"
  }
 },
 "nbformat": 4,
 "nbformat_minor": 5
}
