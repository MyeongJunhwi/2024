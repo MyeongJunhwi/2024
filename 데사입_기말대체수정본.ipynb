{
 "cells": [
  {
   "cell_type": "code",
   "execution_count": 2,
   "id": "3320847c-2cfc-49ec-bfa0-5f89b3815808",
   "metadata": {},
   "outputs": [
    {
     "data": {
      "text/plain": [
       "'%.3f'"
      ]
     },
     "execution_count": 2,
     "metadata": {},
     "output_type": "execute_result"
    }
   ],
   "source": [
    "# 아래의 라이브러리를 사용하므로 미리 임포트해 두기 바랍니다.\n",
    "import numpy as np\n",
    "import numpy.random as random\n",
    "import scipy as sp\n",
    "import scipy.stats as stats\n",
    "import pandas as pd\n",
    "from pandas import Series, DataFrame\n",
    "\n",
    "import statsmodels.formula.api as smf\n",
    "import statsmodels.api as sm\n",
    "\n",
    "# 시각화 라이브러리\n",
    "import matplotlib.pyplot as plt\n",
    "import matplotlib as mpl\n",
    "mpl.rc('font',family='Malgun Gothic')  # 한글폰트 설정 \"맑은 고딕\"\n",
    "import seaborn as sns\n",
    "%matplotlib inline\n",
    "\n",
    "# 소수점 3자리까지 표시\n",
    "%precision 3"
   ]
  },
  {
   "cell_type": "markdown",
   "id": "25f202e5-1710-4b3b-a4a7-a69f49a83455",
   "metadata": {},
   "source": [
    "# Q1. 남성과 여성의 주관적 체형인식 기준은 차이가 날까?\n",
    "분명한 차이가 있을 것이며, 남성보다 여성의 주관적 체형인식 기준이 엄격할 것이다."
   ]
  },
  {
   "cell_type": "markdown",
   "id": "ff1a40de-b500-42d8-9dd2-5f89ff28f0a5",
   "metadata": {},
   "source": [
    "## 데이터 불러오기"
   ]
  },
  {
   "cell_type": "code",
   "execution_count": 3,
   "id": "9e8cfbcd-3313-4dfe-a345-98ce90e8e80b",
   "metadata": {},
   "outputs": [
    {
     "data": {
      "text/html": [
       "<div>\n",
       "<style scoped>\n",
       "    .dataframe tbody tr th:only-of-type {\n",
       "        vertical-align: middle;\n",
       "    }\n",
       "\n",
       "    .dataframe tbody tr th {\n",
       "        vertical-align: top;\n",
       "    }\n",
       "\n",
       "    .dataframe thead th {\n",
       "        text-align: right;\n",
       "    }\n",
       "</style>\n",
       "<table border=\"1\" class=\"dataframe\">\n",
       "  <thead>\n",
       "    <tr style=\"text-align: right;\">\n",
       "      <th></th>\n",
       "      <th>ID</th>\n",
       "      <th>ID_fam</th>\n",
       "      <th>sex</th>\n",
       "      <th>age</th>\n",
       "      <th>BO1</th>\n",
       "      <th>BO2_1</th>\n",
       "      <th>BO3_01</th>\n",
       "      <th>BO3_02</th>\n",
       "      <th>BO3_03</th>\n",
       "      <th>BO3_14</th>\n",
       "      <th>BO3_05</th>\n",
       "      <th>BO3_04</th>\n",
       "      <th>BO3_12</th>\n",
       "      <th>BO3_07</th>\n",
       "      <th>BO3_09</th>\n",
       "      <th>BO3_10</th>\n",
       "      <th>BO3_11</th>\n",
       "      <th>HE_ht</th>\n",
       "      <th>HE_wt</th>\n",
       "      <th>HE_BMI</th>\n",
       "    </tr>\n",
       "  </thead>\n",
       "  <tbody>\n",
       "    <tr>\n",
       "      <th>0</th>\n",
       "      <td>YA01220302</td>\n",
       "      <td>YA012203</td>\n",
       "      <td>2</td>\n",
       "      <td>56</td>\n",
       "      <td>4.0</td>\n",
       "      <td>1.0</td>\n",
       "      <td>1.0</td>\n",
       "      <td>0.0</td>\n",
       "      <td>1.0</td>\n",
       "      <td>0.0</td>\n",
       "      <td>0.0</td>\n",
       "      <td>0.0</td>\n",
       "      <td>0.0</td>\n",
       "      <td>0.0</td>\n",
       "      <td>0.0</td>\n",
       "      <td>0.0</td>\n",
       "      <td>NaN</td>\n",
       "      <td>151.2</td>\n",
       "      <td>60.6</td>\n",
       "      <td>26.507517</td>\n",
       "    </tr>\n",
       "    <tr>\n",
       "      <th>1</th>\n",
       "      <td>YA01220303</td>\n",
       "      <td>YA012203</td>\n",
       "      <td>1</td>\n",
       "      <td>30</td>\n",
       "      <td>4.0</td>\n",
       "      <td>1.0</td>\n",
       "      <td>1.0</td>\n",
       "      <td>0.0</td>\n",
       "      <td>1.0</td>\n",
       "      <td>0.0</td>\n",
       "      <td>0.0</td>\n",
       "      <td>0.0</td>\n",
       "      <td>0.0</td>\n",
       "      <td>1.0</td>\n",
       "      <td>0.0</td>\n",
       "      <td>0.0</td>\n",
       "      <td>NaN</td>\n",
       "      <td>174.1</td>\n",
       "      <td>82.3</td>\n",
       "      <td>27.152029</td>\n",
       "    </tr>\n",
       "    <tr>\n",
       "      <th>2</th>\n",
       "      <td>YA01220304</td>\n",
       "      <td>YA012203</td>\n",
       "      <td>2</td>\n",
       "      <td>25</td>\n",
       "      <td>4.0</td>\n",
       "      <td>1.0</td>\n",
       "      <td>1.0</td>\n",
       "      <td>0.0</td>\n",
       "      <td>1.0</td>\n",
       "      <td>1.0</td>\n",
       "      <td>1.0</td>\n",
       "      <td>1.0</td>\n",
       "      <td>0.0</td>\n",
       "      <td>1.0</td>\n",
       "      <td>0.0</td>\n",
       "      <td>0.0</td>\n",
       "      <td>NaN</td>\n",
       "      <td>166.4</td>\n",
       "      <td>59.0</td>\n",
       "      <td>21.308131</td>\n",
       "    </tr>\n",
       "    <tr>\n",
       "      <th>3</th>\n",
       "      <td>YA01236501</td>\n",
       "      <td>YA012365</td>\n",
       "      <td>1</td>\n",
       "      <td>66</td>\n",
       "      <td>3.0</td>\n",
       "      <td>2.0</td>\n",
       "      <td>1.0</td>\n",
       "      <td>0.0</td>\n",
       "      <td>0.0</td>\n",
       "      <td>0.0</td>\n",
       "      <td>0.0</td>\n",
       "      <td>0.0</td>\n",
       "      <td>0.0</td>\n",
       "      <td>0.0</td>\n",
       "      <td>0.0</td>\n",
       "      <td>0.0</td>\n",
       "      <td>NaN</td>\n",
       "      <td>168.7</td>\n",
       "      <td>67.1</td>\n",
       "      <td>23.577207</td>\n",
       "    </tr>\n",
       "    <tr>\n",
       "      <th>4</th>\n",
       "      <td>YA01236502</td>\n",
       "      <td>YA012365</td>\n",
       "      <td>2</td>\n",
       "      <td>62</td>\n",
       "      <td>3.0</td>\n",
       "      <td>1.0</td>\n",
       "      <td>1.0</td>\n",
       "      <td>0.0</td>\n",
       "      <td>0.0</td>\n",
       "      <td>0.0</td>\n",
       "      <td>0.0</td>\n",
       "      <td>0.0</td>\n",
       "      <td>0.0</td>\n",
       "      <td>0.0</td>\n",
       "      <td>0.0</td>\n",
       "      <td>0.0</td>\n",
       "      <td>NaN</td>\n",
       "      <td>157.1</td>\n",
       "      <td>53.9</td>\n",
       "      <td>21.839183</td>\n",
       "    </tr>\n",
       "    <tr>\n",
       "      <th>...</th>\n",
       "      <td>...</td>\n",
       "      <td>...</td>\n",
       "      <td>...</td>\n",
       "      <td>...</td>\n",
       "      <td>...</td>\n",
       "      <td>...</td>\n",
       "      <td>...</td>\n",
       "      <td>...</td>\n",
       "      <td>...</td>\n",
       "      <td>...</td>\n",
       "      <td>...</td>\n",
       "      <td>...</td>\n",
       "      <td>...</td>\n",
       "      <td>...</td>\n",
       "      <td>...</td>\n",
       "      <td>...</td>\n",
       "      <td>...</td>\n",
       "      <td>...</td>\n",
       "      <td>...</td>\n",
       "      <td>...</td>\n",
       "    </tr>\n",
       "    <tr>\n",
       "      <th>6260</th>\n",
       "      <td>YR38363902</td>\n",
       "      <td>YR383639</td>\n",
       "      <td>2</td>\n",
       "      <td>26</td>\n",
       "      <td>2.0</td>\n",
       "      <td>4.0</td>\n",
       "      <td>8.0</td>\n",
       "      <td>8.0</td>\n",
       "      <td>8.0</td>\n",
       "      <td>8.0</td>\n",
       "      <td>8.0</td>\n",
       "      <td>8.0</td>\n",
       "      <td>8.0</td>\n",
       "      <td>8.0</td>\n",
       "      <td>8.0</td>\n",
       "      <td>8.0</td>\n",
       "      <td>NaN</td>\n",
       "      <td>157.2</td>\n",
       "      <td>44.1</td>\n",
       "      <td>17.845697</td>\n",
       "    </tr>\n",
       "    <tr>\n",
       "      <th>6261</th>\n",
       "      <td>YR38365901</td>\n",
       "      <td>YR383659</td>\n",
       "      <td>1</td>\n",
       "      <td>31</td>\n",
       "      <td>2.0</td>\n",
       "      <td>3.0</td>\n",
       "      <td>8.0</td>\n",
       "      <td>8.0</td>\n",
       "      <td>8.0</td>\n",
       "      <td>8.0</td>\n",
       "      <td>8.0</td>\n",
       "      <td>8.0</td>\n",
       "      <td>8.0</td>\n",
       "      <td>8.0</td>\n",
       "      <td>8.0</td>\n",
       "      <td>8.0</td>\n",
       "      <td>NaN</td>\n",
       "      <td>175.9</td>\n",
       "      <td>64.4</td>\n",
       "      <td>20.813935</td>\n",
       "    </tr>\n",
       "    <tr>\n",
       "      <th>6262</th>\n",
       "      <td>YR38368001</td>\n",
       "      <td>YR383680</td>\n",
       "      <td>2</td>\n",
       "      <td>58</td>\n",
       "      <td>4.0</td>\n",
       "      <td>1.0</td>\n",
       "      <td>1.0</td>\n",
       "      <td>0.0</td>\n",
       "      <td>1.0</td>\n",
       "      <td>0.0</td>\n",
       "      <td>1.0</td>\n",
       "      <td>1.0</td>\n",
       "      <td>0.0</td>\n",
       "      <td>1.0</td>\n",
       "      <td>0.0</td>\n",
       "      <td>0.0</td>\n",
       "      <td>NaN</td>\n",
       "      <td>161.6</td>\n",
       "      <td>67.5</td>\n",
       "      <td>25.847650</td>\n",
       "    </tr>\n",
       "    <tr>\n",
       "      <th>6263</th>\n",
       "      <td>YR38368002</td>\n",
       "      <td>YR383680</td>\n",
       "      <td>1</td>\n",
       "      <td>62</td>\n",
       "      <td>4.0</td>\n",
       "      <td>1.0</td>\n",
       "      <td>0.0</td>\n",
       "      <td>0.0</td>\n",
       "      <td>1.0</td>\n",
       "      <td>1.0</td>\n",
       "      <td>0.0</td>\n",
       "      <td>0.0</td>\n",
       "      <td>0.0</td>\n",
       "      <td>0.0</td>\n",
       "      <td>0.0</td>\n",
       "      <td>0.0</td>\n",
       "      <td>NaN</td>\n",
       "      <td>167.5</td>\n",
       "      <td>70.5</td>\n",
       "      <td>25.128091</td>\n",
       "    </tr>\n",
       "    <tr>\n",
       "      <th>6264</th>\n",
       "      <td>YR38376001</td>\n",
       "      <td>YR383760</td>\n",
       "      <td>1</td>\n",
       "      <td>52</td>\n",
       "      <td>4.0</td>\n",
       "      <td>2.0</td>\n",
       "      <td>1.0</td>\n",
       "      <td>0.0</td>\n",
       "      <td>1.0</td>\n",
       "      <td>1.0</td>\n",
       "      <td>0.0</td>\n",
       "      <td>0.0</td>\n",
       "      <td>0.0</td>\n",
       "      <td>0.0</td>\n",
       "      <td>0.0</td>\n",
       "      <td>0.0</td>\n",
       "      <td>NaN</td>\n",
       "      <td>172.7</td>\n",
       "      <td>75.6</td>\n",
       "      <td>25.347616</td>\n",
       "    </tr>\n",
       "  </tbody>\n",
       "</table>\n",
       "<p>6265 rows × 20 columns</p>\n",
       "</div>"
      ],
      "text/plain": [
       "              ID    ID_fam  sex  age  BO1  BO2_1  BO3_01  BO3_02  BO3_03  \\\n",
       "0     YA01220302  YA012203    2   56  4.0    1.0     1.0     0.0     1.0   \n",
       "1     YA01220303  YA012203    1   30  4.0    1.0     1.0     0.0     1.0   \n",
       "2     YA01220304  YA012203    2   25  4.0    1.0     1.0     0.0     1.0   \n",
       "3     YA01236501  YA012365    1   66  3.0    2.0     1.0     0.0     0.0   \n",
       "4     YA01236502  YA012365    2   62  3.0    1.0     1.0     0.0     0.0   \n",
       "...          ...       ...  ...  ...  ...    ...     ...     ...     ...   \n",
       "6260  YR38363902  YR383639    2   26  2.0    4.0     8.0     8.0     8.0   \n",
       "6261  YR38365901  YR383659    1   31  2.0    3.0     8.0     8.0     8.0   \n",
       "6262  YR38368001  YR383680    2   58  4.0    1.0     1.0     0.0     1.0   \n",
       "6263  YR38368002  YR383680    1   62  4.0    1.0     0.0     0.0     1.0   \n",
       "6264  YR38376001  YR383760    1   52  4.0    2.0     1.0     0.0     1.0   \n",
       "\n",
       "      BO3_14  BO3_05  BO3_04  BO3_12  BO3_07  BO3_09  BO3_10 BO3_11  HE_ht  \\\n",
       "0        0.0     0.0     0.0     0.0     0.0     0.0     0.0    NaN  151.2   \n",
       "1        0.0     0.0     0.0     0.0     1.0     0.0     0.0    NaN  174.1   \n",
       "2        1.0     1.0     1.0     0.0     1.0     0.0     0.0    NaN  166.4   \n",
       "3        0.0     0.0     0.0     0.0     0.0     0.0     0.0    NaN  168.7   \n",
       "4        0.0     0.0     0.0     0.0     0.0     0.0     0.0    NaN  157.1   \n",
       "...      ...     ...     ...     ...     ...     ...     ...    ...    ...   \n",
       "6260     8.0     8.0     8.0     8.0     8.0     8.0     8.0    NaN  157.2   \n",
       "6261     8.0     8.0     8.0     8.0     8.0     8.0     8.0    NaN  175.9   \n",
       "6262     0.0     1.0     1.0     0.0     1.0     0.0     0.0    NaN  161.6   \n",
       "6263     1.0     0.0     0.0     0.0     0.0     0.0     0.0    NaN  167.5   \n",
       "6264     1.0     0.0     0.0     0.0     0.0     0.0     0.0    NaN  172.7   \n",
       "\n",
       "      HE_wt     HE_BMI  \n",
       "0      60.6  26.507517  \n",
       "1      82.3  27.152029  \n",
       "2      59.0  21.308131  \n",
       "3      67.1  23.577207  \n",
       "4      53.9  21.839183  \n",
       "...     ...        ...  \n",
       "6260   44.1  17.845697  \n",
       "6261   64.4  20.813935  \n",
       "6262   67.5  25.847650  \n",
       "6263   70.5  25.128091  \n",
       "6264   75.6  25.347616  \n",
       "\n",
       "[6265 rows x 20 columns]"
      ]
     },
     "execution_count": 3,
     "metadata": {},
     "output_type": "execute_result"
    }
   ],
   "source": [
    "data0 = pd.read_csv('beauty.csv')\n",
    "data0"
   ]
  },
  {
   "cell_type": "markdown",
   "id": "76f186e2-fa8d-4f0d-9b64-18e3ea3f6955",
   "metadata": {},
   "source": [
    "## 값을 보기 쉽게 변경"
   ]
  },
  {
   "cell_type": "code",
   "execution_count": 4,
   "id": "e2a16cbe-04f7-40fa-9c58-143580dab53e",
   "metadata": {},
   "outputs": [
    {
     "name": "stderr",
     "output_type": "stream",
     "text": [
      "C:\\Users\\junhwipython\\AppData\\Local\\Temp\\ipykernel_22408\\2067143949.py:2: FutureWarning: Setting an item of incompatible dtype is deprecated and will raise in a future error of pandas. Value '남성' has dtype incompatible with int64, please explicitly cast to a compatible dtype first.\n",
      "  data0.loc[data0['sex'] == 1, 'sex'] = '남성'\n",
      "C:\\Users\\junhwipython\\AppData\\Local\\Temp\\ipykernel_22408\\2067143949.py:7: FutureWarning: Setting an item of incompatible dtype is deprecated and will raise in a future error of pandas. Value '감소' has dtype incompatible with float64, please explicitly cast to a compatible dtype first.\n",
      "  data0.loc[data0['BO2_1'] == 1, 'BO2_1'] = '감소'\n"
     ]
    },
    {
     "data": {
      "text/html": [
       "<div>\n",
       "<style scoped>\n",
       "    .dataframe tbody tr th:only-of-type {\n",
       "        vertical-align: middle;\n",
       "    }\n",
       "\n",
       "    .dataframe tbody tr th {\n",
       "        vertical-align: top;\n",
       "    }\n",
       "\n",
       "    .dataframe thead th {\n",
       "        text-align: right;\n",
       "    }\n",
       "</style>\n",
       "<table border=\"1\" class=\"dataframe\">\n",
       "  <thead>\n",
       "    <tr style=\"text-align: right;\">\n",
       "      <th></th>\n",
       "      <th>ID</th>\n",
       "      <th>ID_fam</th>\n",
       "      <th>sex</th>\n",
       "      <th>age</th>\n",
       "      <th>BO1</th>\n",
       "      <th>BO2_1</th>\n",
       "      <th>BO3_01</th>\n",
       "      <th>BO3_02</th>\n",
       "      <th>BO3_03</th>\n",
       "      <th>BO3_14</th>\n",
       "      <th>BO3_05</th>\n",
       "      <th>BO3_04</th>\n",
       "      <th>BO3_12</th>\n",
       "      <th>BO3_07</th>\n",
       "      <th>BO3_09</th>\n",
       "      <th>BO3_10</th>\n",
       "      <th>BO3_11</th>\n",
       "      <th>HE_ht</th>\n",
       "      <th>HE_wt</th>\n",
       "      <th>HE_BMI</th>\n",
       "    </tr>\n",
       "  </thead>\n",
       "  <tbody>\n",
       "    <tr>\n",
       "      <th>0</th>\n",
       "      <td>YA01220302</td>\n",
       "      <td>YA012203</td>\n",
       "      <td>여성</td>\n",
       "      <td>56</td>\n",
       "      <td>4.0</td>\n",
       "      <td>감소</td>\n",
       "      <td>1.0</td>\n",
       "      <td>0.0</td>\n",
       "      <td>1.0</td>\n",
       "      <td>0.0</td>\n",
       "      <td>0.0</td>\n",
       "      <td>0.0</td>\n",
       "      <td>0.0</td>\n",
       "      <td>0.0</td>\n",
       "      <td>0.0</td>\n",
       "      <td>0.0</td>\n",
       "      <td>NaN</td>\n",
       "      <td>151.2</td>\n",
       "      <td>60.6</td>\n",
       "      <td>26.507517</td>\n",
       "    </tr>\n",
       "    <tr>\n",
       "      <th>1</th>\n",
       "      <td>YA01220303</td>\n",
       "      <td>YA012203</td>\n",
       "      <td>남성</td>\n",
       "      <td>30</td>\n",
       "      <td>4.0</td>\n",
       "      <td>감소</td>\n",
       "      <td>1.0</td>\n",
       "      <td>0.0</td>\n",
       "      <td>1.0</td>\n",
       "      <td>0.0</td>\n",
       "      <td>0.0</td>\n",
       "      <td>0.0</td>\n",
       "      <td>0.0</td>\n",
       "      <td>1.0</td>\n",
       "      <td>0.0</td>\n",
       "      <td>0.0</td>\n",
       "      <td>NaN</td>\n",
       "      <td>174.1</td>\n",
       "      <td>82.3</td>\n",
       "      <td>27.152029</td>\n",
       "    </tr>\n",
       "    <tr>\n",
       "      <th>2</th>\n",
       "      <td>YA01220304</td>\n",
       "      <td>YA012203</td>\n",
       "      <td>여성</td>\n",
       "      <td>25</td>\n",
       "      <td>4.0</td>\n",
       "      <td>감소</td>\n",
       "      <td>1.0</td>\n",
       "      <td>0.0</td>\n",
       "      <td>1.0</td>\n",
       "      <td>1.0</td>\n",
       "      <td>1.0</td>\n",
       "      <td>1.0</td>\n",
       "      <td>0.0</td>\n",
       "      <td>1.0</td>\n",
       "      <td>0.0</td>\n",
       "      <td>0.0</td>\n",
       "      <td>NaN</td>\n",
       "      <td>166.4</td>\n",
       "      <td>59.0</td>\n",
       "      <td>21.308131</td>\n",
       "    </tr>\n",
       "    <tr>\n",
       "      <th>3</th>\n",
       "      <td>YA01236501</td>\n",
       "      <td>YA012365</td>\n",
       "      <td>남성</td>\n",
       "      <td>66</td>\n",
       "      <td>3.0</td>\n",
       "      <td>유지</td>\n",
       "      <td>1.0</td>\n",
       "      <td>0.0</td>\n",
       "      <td>0.0</td>\n",
       "      <td>0.0</td>\n",
       "      <td>0.0</td>\n",
       "      <td>0.0</td>\n",
       "      <td>0.0</td>\n",
       "      <td>0.0</td>\n",
       "      <td>0.0</td>\n",
       "      <td>0.0</td>\n",
       "      <td>NaN</td>\n",
       "      <td>168.7</td>\n",
       "      <td>67.1</td>\n",
       "      <td>23.577207</td>\n",
       "    </tr>\n",
       "    <tr>\n",
       "      <th>4</th>\n",
       "      <td>YA01236502</td>\n",
       "      <td>YA012365</td>\n",
       "      <td>여성</td>\n",
       "      <td>62</td>\n",
       "      <td>3.0</td>\n",
       "      <td>감소</td>\n",
       "      <td>1.0</td>\n",
       "      <td>0.0</td>\n",
       "      <td>0.0</td>\n",
       "      <td>0.0</td>\n",
       "      <td>0.0</td>\n",
       "      <td>0.0</td>\n",
       "      <td>0.0</td>\n",
       "      <td>0.0</td>\n",
       "      <td>0.0</td>\n",
       "      <td>0.0</td>\n",
       "      <td>NaN</td>\n",
       "      <td>157.1</td>\n",
       "      <td>53.9</td>\n",
       "      <td>21.839183</td>\n",
       "    </tr>\n",
       "    <tr>\n",
       "      <th>...</th>\n",
       "      <td>...</td>\n",
       "      <td>...</td>\n",
       "      <td>...</td>\n",
       "      <td>...</td>\n",
       "      <td>...</td>\n",
       "      <td>...</td>\n",
       "      <td>...</td>\n",
       "      <td>...</td>\n",
       "      <td>...</td>\n",
       "      <td>...</td>\n",
       "      <td>...</td>\n",
       "      <td>...</td>\n",
       "      <td>...</td>\n",
       "      <td>...</td>\n",
       "      <td>...</td>\n",
       "      <td>...</td>\n",
       "      <td>...</td>\n",
       "      <td>...</td>\n",
       "      <td>...</td>\n",
       "      <td>...</td>\n",
       "    </tr>\n",
       "    <tr>\n",
       "      <th>6260</th>\n",
       "      <td>YR38363902</td>\n",
       "      <td>YR383639</td>\n",
       "      <td>여성</td>\n",
       "      <td>26</td>\n",
       "      <td>2.0</td>\n",
       "      <td>노력X</td>\n",
       "      <td>8.0</td>\n",
       "      <td>8.0</td>\n",
       "      <td>8.0</td>\n",
       "      <td>8.0</td>\n",
       "      <td>8.0</td>\n",
       "      <td>8.0</td>\n",
       "      <td>8.0</td>\n",
       "      <td>8.0</td>\n",
       "      <td>8.0</td>\n",
       "      <td>8.0</td>\n",
       "      <td>NaN</td>\n",
       "      <td>157.2</td>\n",
       "      <td>44.1</td>\n",
       "      <td>17.845697</td>\n",
       "    </tr>\n",
       "    <tr>\n",
       "      <th>6261</th>\n",
       "      <td>YR38365901</td>\n",
       "      <td>YR383659</td>\n",
       "      <td>남성</td>\n",
       "      <td>31</td>\n",
       "      <td>2.0</td>\n",
       "      <td>증가</td>\n",
       "      <td>8.0</td>\n",
       "      <td>8.0</td>\n",
       "      <td>8.0</td>\n",
       "      <td>8.0</td>\n",
       "      <td>8.0</td>\n",
       "      <td>8.0</td>\n",
       "      <td>8.0</td>\n",
       "      <td>8.0</td>\n",
       "      <td>8.0</td>\n",
       "      <td>8.0</td>\n",
       "      <td>NaN</td>\n",
       "      <td>175.9</td>\n",
       "      <td>64.4</td>\n",
       "      <td>20.813935</td>\n",
       "    </tr>\n",
       "    <tr>\n",
       "      <th>6262</th>\n",
       "      <td>YR38368001</td>\n",
       "      <td>YR383680</td>\n",
       "      <td>여성</td>\n",
       "      <td>58</td>\n",
       "      <td>4.0</td>\n",
       "      <td>감소</td>\n",
       "      <td>1.0</td>\n",
       "      <td>0.0</td>\n",
       "      <td>1.0</td>\n",
       "      <td>0.0</td>\n",
       "      <td>1.0</td>\n",
       "      <td>1.0</td>\n",
       "      <td>0.0</td>\n",
       "      <td>1.0</td>\n",
       "      <td>0.0</td>\n",
       "      <td>0.0</td>\n",
       "      <td>NaN</td>\n",
       "      <td>161.6</td>\n",
       "      <td>67.5</td>\n",
       "      <td>25.847650</td>\n",
       "    </tr>\n",
       "    <tr>\n",
       "      <th>6263</th>\n",
       "      <td>YR38368002</td>\n",
       "      <td>YR383680</td>\n",
       "      <td>남성</td>\n",
       "      <td>62</td>\n",
       "      <td>4.0</td>\n",
       "      <td>감소</td>\n",
       "      <td>0.0</td>\n",
       "      <td>0.0</td>\n",
       "      <td>1.0</td>\n",
       "      <td>1.0</td>\n",
       "      <td>0.0</td>\n",
       "      <td>0.0</td>\n",
       "      <td>0.0</td>\n",
       "      <td>0.0</td>\n",
       "      <td>0.0</td>\n",
       "      <td>0.0</td>\n",
       "      <td>NaN</td>\n",
       "      <td>167.5</td>\n",
       "      <td>70.5</td>\n",
       "      <td>25.128091</td>\n",
       "    </tr>\n",
       "    <tr>\n",
       "      <th>6264</th>\n",
       "      <td>YR38376001</td>\n",
       "      <td>YR383760</td>\n",
       "      <td>남성</td>\n",
       "      <td>52</td>\n",
       "      <td>4.0</td>\n",
       "      <td>유지</td>\n",
       "      <td>1.0</td>\n",
       "      <td>0.0</td>\n",
       "      <td>1.0</td>\n",
       "      <td>1.0</td>\n",
       "      <td>0.0</td>\n",
       "      <td>0.0</td>\n",
       "      <td>0.0</td>\n",
       "      <td>0.0</td>\n",
       "      <td>0.0</td>\n",
       "      <td>0.0</td>\n",
       "      <td>NaN</td>\n",
       "      <td>172.7</td>\n",
       "      <td>75.6</td>\n",
       "      <td>25.347616</td>\n",
       "    </tr>\n",
       "  </tbody>\n",
       "</table>\n",
       "<p>6265 rows × 20 columns</p>\n",
       "</div>"
      ],
      "text/plain": [
       "              ID    ID_fam sex  age  BO1 BO2_1  BO3_01  BO3_02  BO3_03  \\\n",
       "0     YA01220302  YA012203  여성   56  4.0    감소     1.0     0.0     1.0   \n",
       "1     YA01220303  YA012203  남성   30  4.0    감소     1.0     0.0     1.0   \n",
       "2     YA01220304  YA012203  여성   25  4.0    감소     1.0     0.0     1.0   \n",
       "3     YA01236501  YA012365  남성   66  3.0    유지     1.0     0.0     0.0   \n",
       "4     YA01236502  YA012365  여성   62  3.0    감소     1.0     0.0     0.0   \n",
       "...          ...       ...  ..  ...  ...   ...     ...     ...     ...   \n",
       "6260  YR38363902  YR383639  여성   26  2.0   노력X     8.0     8.0     8.0   \n",
       "6261  YR38365901  YR383659  남성   31  2.0    증가     8.0     8.0     8.0   \n",
       "6262  YR38368001  YR383680  여성   58  4.0    감소     1.0     0.0     1.0   \n",
       "6263  YR38368002  YR383680  남성   62  4.0    감소     0.0     0.0     1.0   \n",
       "6264  YR38376001  YR383760  남성   52  4.0    유지     1.0     0.0     1.0   \n",
       "\n",
       "      BO3_14  BO3_05  BO3_04  BO3_12  BO3_07  BO3_09  BO3_10 BO3_11  HE_ht  \\\n",
       "0        0.0     0.0     0.0     0.0     0.0     0.0     0.0    NaN  151.2   \n",
       "1        0.0     0.0     0.0     0.0     1.0     0.0     0.0    NaN  174.1   \n",
       "2        1.0     1.0     1.0     0.0     1.0     0.0     0.0    NaN  166.4   \n",
       "3        0.0     0.0     0.0     0.0     0.0     0.0     0.0    NaN  168.7   \n",
       "4        0.0     0.0     0.0     0.0     0.0     0.0     0.0    NaN  157.1   \n",
       "...      ...     ...     ...     ...     ...     ...     ...    ...    ...   \n",
       "6260     8.0     8.0     8.0     8.0     8.0     8.0     8.0    NaN  157.2   \n",
       "6261     8.0     8.0     8.0     8.0     8.0     8.0     8.0    NaN  175.9   \n",
       "6262     0.0     1.0     1.0     0.0     1.0     0.0     0.0    NaN  161.6   \n",
       "6263     1.0     0.0     0.0     0.0     0.0     0.0     0.0    NaN  167.5   \n",
       "6264     1.0     0.0     0.0     0.0     0.0     0.0     0.0    NaN  172.7   \n",
       "\n",
       "      HE_wt     HE_BMI  \n",
       "0      60.6  26.507517  \n",
       "1      82.3  27.152029  \n",
       "2      59.0  21.308131  \n",
       "3      67.1  23.577207  \n",
       "4      53.9  21.839183  \n",
       "...     ...        ...  \n",
       "6260   44.1  17.845697  \n",
       "6261   64.4  20.813935  \n",
       "6262   67.5  25.847650  \n",
       "6263   70.5  25.128091  \n",
       "6264   75.6  25.347616  \n",
       "\n",
       "[6265 rows x 20 columns]"
      ]
     },
     "execution_count": 4,
     "metadata": {},
     "output_type": "execute_result"
    }
   ],
   "source": [
    "# sex가 1인 값을 '남성'으로 변경\n",
    "data0.loc[data0['sex'] == 1, 'sex'] = '남성'\n",
    "# sex가 2인 값을 '여성'으로 변경\n",
    "data0.loc[data0['sex'] == 2, 'sex'] = '여성'\n",
    "\n",
    "#체중조절노력경험\n",
    "data0.loc[data0['BO2_1'] == 1, 'BO2_1'] = '감소'\n",
    "data0.loc[data0['BO2_1'] == 2, 'BO2_1'] = '유지'\n",
    "data0.loc[data0['BO2_1'] == 3, 'BO2_1'] = '증가'\n",
    "data0.loc[data0['BO2_1'] == 4, 'BO2_1'] = '노력X'\n",
    "\n",
    "data0"
   ]
  },
  {
   "cell_type": "markdown",
   "id": "4db2e62e-50f5-4e9c-9aea-d9655d37ec92",
   "metadata": {},
   "source": [
    "## 데이터 군집화"
   ]
  },
  {
   "cell_type": "markdown",
   "id": "7c2e0866-74d0-4672-9874-0df540fdb76b",
   "metadata": {},
   "source": [
    "### 1. BMI 별로 저체중, 정상, 비만 나누기"
   ]
  },
  {
   "cell_type": "code",
   "execution_count": 5,
   "id": "db511e13-9ff8-46ab-bd9a-7039c1018300",
   "metadata": {},
   "outputs": [
    {
     "data": {
      "text/html": [
       "<div>\n",
       "<style scoped>\n",
       "    .dataframe tbody tr th:only-of-type {\n",
       "        vertical-align: middle;\n",
       "    }\n",
       "\n",
       "    .dataframe tbody tr th {\n",
       "        vertical-align: top;\n",
       "    }\n",
       "\n",
       "    .dataframe thead th {\n",
       "        text-align: right;\n",
       "    }\n",
       "</style>\n",
       "<table border=\"1\" class=\"dataframe\">\n",
       "  <thead>\n",
       "    <tr style=\"text-align: right;\">\n",
       "      <th></th>\n",
       "      <th>ID</th>\n",
       "      <th>ID_fam</th>\n",
       "      <th>sex</th>\n",
       "      <th>age</th>\n",
       "      <th>BO1</th>\n",
       "      <th>BO2_1</th>\n",
       "      <th>BO3_01</th>\n",
       "      <th>BO3_02</th>\n",
       "      <th>BO3_03</th>\n",
       "      <th>BO3_14</th>\n",
       "      <th>...</th>\n",
       "      <th>BO3_04</th>\n",
       "      <th>BO3_12</th>\n",
       "      <th>BO3_07</th>\n",
       "      <th>BO3_09</th>\n",
       "      <th>BO3_10</th>\n",
       "      <th>BO3_11</th>\n",
       "      <th>HE_ht</th>\n",
       "      <th>HE_wt</th>\n",
       "      <th>HE_BMI</th>\n",
       "      <th>obesity</th>\n",
       "    </tr>\n",
       "  </thead>\n",
       "  <tbody>\n",
       "    <tr>\n",
       "      <th>0</th>\n",
       "      <td>YA01220302</td>\n",
       "      <td>YA012203</td>\n",
       "      <td>여성</td>\n",
       "      <td>56</td>\n",
       "      <td>4.0</td>\n",
       "      <td>감소</td>\n",
       "      <td>1.0</td>\n",
       "      <td>0.0</td>\n",
       "      <td>1.0</td>\n",
       "      <td>0.0</td>\n",
       "      <td>...</td>\n",
       "      <td>0.0</td>\n",
       "      <td>0.0</td>\n",
       "      <td>0.0</td>\n",
       "      <td>0.0</td>\n",
       "      <td>0.0</td>\n",
       "      <td>NaN</td>\n",
       "      <td>151.2</td>\n",
       "      <td>60.6</td>\n",
       "      <td>26.507517</td>\n",
       "      <td>비만</td>\n",
       "    </tr>\n",
       "    <tr>\n",
       "      <th>1</th>\n",
       "      <td>YA01220303</td>\n",
       "      <td>YA012203</td>\n",
       "      <td>남성</td>\n",
       "      <td>30</td>\n",
       "      <td>4.0</td>\n",
       "      <td>감소</td>\n",
       "      <td>1.0</td>\n",
       "      <td>0.0</td>\n",
       "      <td>1.0</td>\n",
       "      <td>0.0</td>\n",
       "      <td>...</td>\n",
       "      <td>0.0</td>\n",
       "      <td>0.0</td>\n",
       "      <td>1.0</td>\n",
       "      <td>0.0</td>\n",
       "      <td>0.0</td>\n",
       "      <td>NaN</td>\n",
       "      <td>174.1</td>\n",
       "      <td>82.3</td>\n",
       "      <td>27.152029</td>\n",
       "      <td>비만</td>\n",
       "    </tr>\n",
       "    <tr>\n",
       "      <th>2</th>\n",
       "      <td>YA01220304</td>\n",
       "      <td>YA012203</td>\n",
       "      <td>여성</td>\n",
       "      <td>25</td>\n",
       "      <td>4.0</td>\n",
       "      <td>감소</td>\n",
       "      <td>1.0</td>\n",
       "      <td>0.0</td>\n",
       "      <td>1.0</td>\n",
       "      <td>1.0</td>\n",
       "      <td>...</td>\n",
       "      <td>1.0</td>\n",
       "      <td>0.0</td>\n",
       "      <td>1.0</td>\n",
       "      <td>0.0</td>\n",
       "      <td>0.0</td>\n",
       "      <td>NaN</td>\n",
       "      <td>166.4</td>\n",
       "      <td>59.0</td>\n",
       "      <td>21.308131</td>\n",
       "      <td>정상</td>\n",
       "    </tr>\n",
       "    <tr>\n",
       "      <th>3</th>\n",
       "      <td>YA01236501</td>\n",
       "      <td>YA012365</td>\n",
       "      <td>남성</td>\n",
       "      <td>66</td>\n",
       "      <td>3.0</td>\n",
       "      <td>유지</td>\n",
       "      <td>1.0</td>\n",
       "      <td>0.0</td>\n",
       "      <td>0.0</td>\n",
       "      <td>0.0</td>\n",
       "      <td>...</td>\n",
       "      <td>0.0</td>\n",
       "      <td>0.0</td>\n",
       "      <td>0.0</td>\n",
       "      <td>0.0</td>\n",
       "      <td>0.0</td>\n",
       "      <td>NaN</td>\n",
       "      <td>168.7</td>\n",
       "      <td>67.1</td>\n",
       "      <td>23.577207</td>\n",
       "      <td>정상</td>\n",
       "    </tr>\n",
       "    <tr>\n",
       "      <th>4</th>\n",
       "      <td>YA01236502</td>\n",
       "      <td>YA012365</td>\n",
       "      <td>여성</td>\n",
       "      <td>62</td>\n",
       "      <td>3.0</td>\n",
       "      <td>감소</td>\n",
       "      <td>1.0</td>\n",
       "      <td>0.0</td>\n",
       "      <td>0.0</td>\n",
       "      <td>0.0</td>\n",
       "      <td>...</td>\n",
       "      <td>0.0</td>\n",
       "      <td>0.0</td>\n",
       "      <td>0.0</td>\n",
       "      <td>0.0</td>\n",
       "      <td>0.0</td>\n",
       "      <td>NaN</td>\n",
       "      <td>157.1</td>\n",
       "      <td>53.9</td>\n",
       "      <td>21.839183</td>\n",
       "      <td>정상</td>\n",
       "    </tr>\n",
       "    <tr>\n",
       "      <th>...</th>\n",
       "      <td>...</td>\n",
       "      <td>...</td>\n",
       "      <td>...</td>\n",
       "      <td>...</td>\n",
       "      <td>...</td>\n",
       "      <td>...</td>\n",
       "      <td>...</td>\n",
       "      <td>...</td>\n",
       "      <td>...</td>\n",
       "      <td>...</td>\n",
       "      <td>...</td>\n",
       "      <td>...</td>\n",
       "      <td>...</td>\n",
       "      <td>...</td>\n",
       "      <td>...</td>\n",
       "      <td>...</td>\n",
       "      <td>...</td>\n",
       "      <td>...</td>\n",
       "      <td>...</td>\n",
       "      <td>...</td>\n",
       "      <td>...</td>\n",
       "    </tr>\n",
       "    <tr>\n",
       "      <th>6260</th>\n",
       "      <td>YR38363902</td>\n",
       "      <td>YR383639</td>\n",
       "      <td>여성</td>\n",
       "      <td>26</td>\n",
       "      <td>2.0</td>\n",
       "      <td>노력X</td>\n",
       "      <td>8.0</td>\n",
       "      <td>8.0</td>\n",
       "      <td>8.0</td>\n",
       "      <td>8.0</td>\n",
       "      <td>...</td>\n",
       "      <td>8.0</td>\n",
       "      <td>8.0</td>\n",
       "      <td>8.0</td>\n",
       "      <td>8.0</td>\n",
       "      <td>8.0</td>\n",
       "      <td>NaN</td>\n",
       "      <td>157.2</td>\n",
       "      <td>44.1</td>\n",
       "      <td>17.845697</td>\n",
       "      <td>저체중</td>\n",
       "    </tr>\n",
       "    <tr>\n",
       "      <th>6261</th>\n",
       "      <td>YR38365901</td>\n",
       "      <td>YR383659</td>\n",
       "      <td>남성</td>\n",
       "      <td>31</td>\n",
       "      <td>2.0</td>\n",
       "      <td>증가</td>\n",
       "      <td>8.0</td>\n",
       "      <td>8.0</td>\n",
       "      <td>8.0</td>\n",
       "      <td>8.0</td>\n",
       "      <td>...</td>\n",
       "      <td>8.0</td>\n",
       "      <td>8.0</td>\n",
       "      <td>8.0</td>\n",
       "      <td>8.0</td>\n",
       "      <td>8.0</td>\n",
       "      <td>NaN</td>\n",
       "      <td>175.9</td>\n",
       "      <td>64.4</td>\n",
       "      <td>20.813935</td>\n",
       "      <td>정상</td>\n",
       "    </tr>\n",
       "    <tr>\n",
       "      <th>6262</th>\n",
       "      <td>YR38368001</td>\n",
       "      <td>YR383680</td>\n",
       "      <td>여성</td>\n",
       "      <td>58</td>\n",
       "      <td>4.0</td>\n",
       "      <td>감소</td>\n",
       "      <td>1.0</td>\n",
       "      <td>0.0</td>\n",
       "      <td>1.0</td>\n",
       "      <td>0.0</td>\n",
       "      <td>...</td>\n",
       "      <td>1.0</td>\n",
       "      <td>0.0</td>\n",
       "      <td>1.0</td>\n",
       "      <td>0.0</td>\n",
       "      <td>0.0</td>\n",
       "      <td>NaN</td>\n",
       "      <td>161.6</td>\n",
       "      <td>67.5</td>\n",
       "      <td>25.847650</td>\n",
       "      <td>비만</td>\n",
       "    </tr>\n",
       "    <tr>\n",
       "      <th>6263</th>\n",
       "      <td>YR38368002</td>\n",
       "      <td>YR383680</td>\n",
       "      <td>남성</td>\n",
       "      <td>62</td>\n",
       "      <td>4.0</td>\n",
       "      <td>감소</td>\n",
       "      <td>0.0</td>\n",
       "      <td>0.0</td>\n",
       "      <td>1.0</td>\n",
       "      <td>1.0</td>\n",
       "      <td>...</td>\n",
       "      <td>0.0</td>\n",
       "      <td>0.0</td>\n",
       "      <td>0.0</td>\n",
       "      <td>0.0</td>\n",
       "      <td>0.0</td>\n",
       "      <td>NaN</td>\n",
       "      <td>167.5</td>\n",
       "      <td>70.5</td>\n",
       "      <td>25.128091</td>\n",
       "      <td>비만</td>\n",
       "    </tr>\n",
       "    <tr>\n",
       "      <th>6264</th>\n",
       "      <td>YR38376001</td>\n",
       "      <td>YR383760</td>\n",
       "      <td>남성</td>\n",
       "      <td>52</td>\n",
       "      <td>4.0</td>\n",
       "      <td>유지</td>\n",
       "      <td>1.0</td>\n",
       "      <td>0.0</td>\n",
       "      <td>1.0</td>\n",
       "      <td>1.0</td>\n",
       "      <td>...</td>\n",
       "      <td>0.0</td>\n",
       "      <td>0.0</td>\n",
       "      <td>0.0</td>\n",
       "      <td>0.0</td>\n",
       "      <td>0.0</td>\n",
       "      <td>NaN</td>\n",
       "      <td>172.7</td>\n",
       "      <td>75.6</td>\n",
       "      <td>25.347616</td>\n",
       "      <td>비만</td>\n",
       "    </tr>\n",
       "  </tbody>\n",
       "</table>\n",
       "<p>6265 rows × 21 columns</p>\n",
       "</div>"
      ],
      "text/plain": [
       "              ID    ID_fam sex  age  BO1 BO2_1  BO3_01  BO3_02  BO3_03  \\\n",
       "0     YA01220302  YA012203  여성   56  4.0    감소     1.0     0.0     1.0   \n",
       "1     YA01220303  YA012203  남성   30  4.0    감소     1.0     0.0     1.0   \n",
       "2     YA01220304  YA012203  여성   25  4.0    감소     1.0     0.0     1.0   \n",
       "3     YA01236501  YA012365  남성   66  3.0    유지     1.0     0.0     0.0   \n",
       "4     YA01236502  YA012365  여성   62  3.0    감소     1.0     0.0     0.0   \n",
       "...          ...       ...  ..  ...  ...   ...     ...     ...     ...   \n",
       "6260  YR38363902  YR383639  여성   26  2.0   노력X     8.0     8.0     8.0   \n",
       "6261  YR38365901  YR383659  남성   31  2.0    증가     8.0     8.0     8.0   \n",
       "6262  YR38368001  YR383680  여성   58  4.0    감소     1.0     0.0     1.0   \n",
       "6263  YR38368002  YR383680  남성   62  4.0    감소     0.0     0.0     1.0   \n",
       "6264  YR38376001  YR383760  남성   52  4.0    유지     1.0     0.0     1.0   \n",
       "\n",
       "      BO3_14  ...  BO3_04  BO3_12  BO3_07  BO3_09  BO3_10  BO3_11  HE_ht  \\\n",
       "0        0.0  ...     0.0     0.0     0.0     0.0     0.0     NaN  151.2   \n",
       "1        0.0  ...     0.0     0.0     1.0     0.0     0.0     NaN  174.1   \n",
       "2        1.0  ...     1.0     0.0     1.0     0.0     0.0     NaN  166.4   \n",
       "3        0.0  ...     0.0     0.0     0.0     0.0     0.0     NaN  168.7   \n",
       "4        0.0  ...     0.0     0.0     0.0     0.0     0.0     NaN  157.1   \n",
       "...      ...  ...     ...     ...     ...     ...     ...     ...    ...   \n",
       "6260     8.0  ...     8.0     8.0     8.0     8.0     8.0     NaN  157.2   \n",
       "6261     8.0  ...     8.0     8.0     8.0     8.0     8.0     NaN  175.9   \n",
       "6262     0.0  ...     1.0     0.0     1.0     0.0     0.0     NaN  161.6   \n",
       "6263     1.0  ...     0.0     0.0     0.0     0.0     0.0     NaN  167.5   \n",
       "6264     1.0  ...     0.0     0.0     0.0     0.0     0.0     NaN  172.7   \n",
       "\n",
       "      HE_wt     HE_BMI  obesity  \n",
       "0      60.6  26.507517       비만  \n",
       "1      82.3  27.152029       비만  \n",
       "2      59.0  21.308131       정상  \n",
       "3      67.1  23.577207       정상  \n",
       "4      53.9  21.839183       정상  \n",
       "...     ...        ...      ...  \n",
       "6260   44.1  17.845697      저체중  \n",
       "6261   64.4  20.813935       정상  \n",
       "6262   67.5  25.847650       비만  \n",
       "6263   70.5  25.128091       비만  \n",
       "6264   75.6  25.347616       비만  \n",
       "\n",
       "[6265 rows x 21 columns]"
      ]
     },
     "execution_count": 5,
     "metadata": {},
     "output_type": "execute_result"
    }
   ],
   "source": [
    "BMI_cut = [0, 18.5, 25, 100]\n",
    "BMI_names = ['저체중', '정상', '비만']\n",
    "data0['obesity'] = pd.cut(data0.HE_BMI, BMI_cut, labels = BMI_names)\n",
    "data0"
   ]
  },
  {
   "cell_type": "markdown",
   "id": "f1d975e0-8a17-4d6b-8767-4c63ff1e3e9c",
   "metadata": {},
   "source": [
    "### 2. 주관적 체형인식 별로 마름, 보통, 비만 나누기"
   ]
  },
  {
   "cell_type": "code",
   "execution_count": 6,
   "id": "134d5561-3a25-4d1f-9e51-06322fc1840a",
   "metadata": {},
   "outputs": [
    {
     "data": {
      "text/html": [
       "<div>\n",
       "<style scoped>\n",
       "    .dataframe tbody tr th:only-of-type {\n",
       "        vertical-align: middle;\n",
       "    }\n",
       "\n",
       "    .dataframe tbody tr th {\n",
       "        vertical-align: top;\n",
       "    }\n",
       "\n",
       "    .dataframe thead th {\n",
       "        text-align: right;\n",
       "    }\n",
       "</style>\n",
       "<table border=\"1\" class=\"dataframe\">\n",
       "  <thead>\n",
       "    <tr style=\"text-align: right;\">\n",
       "      <th></th>\n",
       "      <th>ID</th>\n",
       "      <th>ID_fam</th>\n",
       "      <th>sex</th>\n",
       "      <th>age</th>\n",
       "      <th>BO1</th>\n",
       "      <th>BO2_1</th>\n",
       "      <th>BO3_01</th>\n",
       "      <th>BO3_02</th>\n",
       "      <th>BO3_03</th>\n",
       "      <th>BO3_14</th>\n",
       "      <th>...</th>\n",
       "      <th>BO3_12</th>\n",
       "      <th>BO3_07</th>\n",
       "      <th>BO3_09</th>\n",
       "      <th>BO3_10</th>\n",
       "      <th>BO3_11</th>\n",
       "      <th>HE_ht</th>\n",
       "      <th>HE_wt</th>\n",
       "      <th>HE_BMI</th>\n",
       "      <th>obesity</th>\n",
       "      <th>beauty</th>\n",
       "    </tr>\n",
       "  </thead>\n",
       "  <tbody>\n",
       "    <tr>\n",
       "      <th>0</th>\n",
       "      <td>YA01220302</td>\n",
       "      <td>YA012203</td>\n",
       "      <td>여성</td>\n",
       "      <td>56</td>\n",
       "      <td>4.0</td>\n",
       "      <td>감소</td>\n",
       "      <td>1.0</td>\n",
       "      <td>0.0</td>\n",
       "      <td>1.0</td>\n",
       "      <td>0.0</td>\n",
       "      <td>...</td>\n",
       "      <td>0.0</td>\n",
       "      <td>0.0</td>\n",
       "      <td>0.0</td>\n",
       "      <td>0.0</td>\n",
       "      <td>NaN</td>\n",
       "      <td>151.2</td>\n",
       "      <td>60.6</td>\n",
       "      <td>26.507517</td>\n",
       "      <td>비만</td>\n",
       "      <td>비만</td>\n",
       "    </tr>\n",
       "    <tr>\n",
       "      <th>1</th>\n",
       "      <td>YA01220303</td>\n",
       "      <td>YA012203</td>\n",
       "      <td>남성</td>\n",
       "      <td>30</td>\n",
       "      <td>4.0</td>\n",
       "      <td>감소</td>\n",
       "      <td>1.0</td>\n",
       "      <td>0.0</td>\n",
       "      <td>1.0</td>\n",
       "      <td>0.0</td>\n",
       "      <td>...</td>\n",
       "      <td>0.0</td>\n",
       "      <td>1.0</td>\n",
       "      <td>0.0</td>\n",
       "      <td>0.0</td>\n",
       "      <td>NaN</td>\n",
       "      <td>174.1</td>\n",
       "      <td>82.3</td>\n",
       "      <td>27.152029</td>\n",
       "      <td>비만</td>\n",
       "      <td>비만</td>\n",
       "    </tr>\n",
       "    <tr>\n",
       "      <th>2</th>\n",
       "      <td>YA01220304</td>\n",
       "      <td>YA012203</td>\n",
       "      <td>여성</td>\n",
       "      <td>25</td>\n",
       "      <td>4.0</td>\n",
       "      <td>감소</td>\n",
       "      <td>1.0</td>\n",
       "      <td>0.0</td>\n",
       "      <td>1.0</td>\n",
       "      <td>1.0</td>\n",
       "      <td>...</td>\n",
       "      <td>0.0</td>\n",
       "      <td>1.0</td>\n",
       "      <td>0.0</td>\n",
       "      <td>0.0</td>\n",
       "      <td>NaN</td>\n",
       "      <td>166.4</td>\n",
       "      <td>59.0</td>\n",
       "      <td>21.308131</td>\n",
       "      <td>정상</td>\n",
       "      <td>비만</td>\n",
       "    </tr>\n",
       "    <tr>\n",
       "      <th>3</th>\n",
       "      <td>YA01236501</td>\n",
       "      <td>YA012365</td>\n",
       "      <td>남성</td>\n",
       "      <td>66</td>\n",
       "      <td>3.0</td>\n",
       "      <td>유지</td>\n",
       "      <td>1.0</td>\n",
       "      <td>0.0</td>\n",
       "      <td>0.0</td>\n",
       "      <td>0.0</td>\n",
       "      <td>...</td>\n",
       "      <td>0.0</td>\n",
       "      <td>0.0</td>\n",
       "      <td>0.0</td>\n",
       "      <td>0.0</td>\n",
       "      <td>NaN</td>\n",
       "      <td>168.7</td>\n",
       "      <td>67.1</td>\n",
       "      <td>23.577207</td>\n",
       "      <td>정상</td>\n",
       "      <td>정상</td>\n",
       "    </tr>\n",
       "    <tr>\n",
       "      <th>4</th>\n",
       "      <td>YA01236502</td>\n",
       "      <td>YA012365</td>\n",
       "      <td>여성</td>\n",
       "      <td>62</td>\n",
       "      <td>3.0</td>\n",
       "      <td>감소</td>\n",
       "      <td>1.0</td>\n",
       "      <td>0.0</td>\n",
       "      <td>0.0</td>\n",
       "      <td>0.0</td>\n",
       "      <td>...</td>\n",
       "      <td>0.0</td>\n",
       "      <td>0.0</td>\n",
       "      <td>0.0</td>\n",
       "      <td>0.0</td>\n",
       "      <td>NaN</td>\n",
       "      <td>157.1</td>\n",
       "      <td>53.9</td>\n",
       "      <td>21.839183</td>\n",
       "      <td>정상</td>\n",
       "      <td>정상</td>\n",
       "    </tr>\n",
       "    <tr>\n",
       "      <th>...</th>\n",
       "      <td>...</td>\n",
       "      <td>...</td>\n",
       "      <td>...</td>\n",
       "      <td>...</td>\n",
       "      <td>...</td>\n",
       "      <td>...</td>\n",
       "      <td>...</td>\n",
       "      <td>...</td>\n",
       "      <td>...</td>\n",
       "      <td>...</td>\n",
       "      <td>...</td>\n",
       "      <td>...</td>\n",
       "      <td>...</td>\n",
       "      <td>...</td>\n",
       "      <td>...</td>\n",
       "      <td>...</td>\n",
       "      <td>...</td>\n",
       "      <td>...</td>\n",
       "      <td>...</td>\n",
       "      <td>...</td>\n",
       "      <td>...</td>\n",
       "    </tr>\n",
       "    <tr>\n",
       "      <th>6260</th>\n",
       "      <td>YR38363902</td>\n",
       "      <td>YR383639</td>\n",
       "      <td>여성</td>\n",
       "      <td>26</td>\n",
       "      <td>2.0</td>\n",
       "      <td>노력X</td>\n",
       "      <td>8.0</td>\n",
       "      <td>8.0</td>\n",
       "      <td>8.0</td>\n",
       "      <td>8.0</td>\n",
       "      <td>...</td>\n",
       "      <td>8.0</td>\n",
       "      <td>8.0</td>\n",
       "      <td>8.0</td>\n",
       "      <td>8.0</td>\n",
       "      <td>NaN</td>\n",
       "      <td>157.2</td>\n",
       "      <td>44.1</td>\n",
       "      <td>17.845697</td>\n",
       "      <td>저체중</td>\n",
       "      <td>마름</td>\n",
       "    </tr>\n",
       "    <tr>\n",
       "      <th>6261</th>\n",
       "      <td>YR38365901</td>\n",
       "      <td>YR383659</td>\n",
       "      <td>남성</td>\n",
       "      <td>31</td>\n",
       "      <td>2.0</td>\n",
       "      <td>증가</td>\n",
       "      <td>8.0</td>\n",
       "      <td>8.0</td>\n",
       "      <td>8.0</td>\n",
       "      <td>8.0</td>\n",
       "      <td>...</td>\n",
       "      <td>8.0</td>\n",
       "      <td>8.0</td>\n",
       "      <td>8.0</td>\n",
       "      <td>8.0</td>\n",
       "      <td>NaN</td>\n",
       "      <td>175.9</td>\n",
       "      <td>64.4</td>\n",
       "      <td>20.813935</td>\n",
       "      <td>정상</td>\n",
       "      <td>마름</td>\n",
       "    </tr>\n",
       "    <tr>\n",
       "      <th>6262</th>\n",
       "      <td>YR38368001</td>\n",
       "      <td>YR383680</td>\n",
       "      <td>여성</td>\n",
       "      <td>58</td>\n",
       "      <td>4.0</td>\n",
       "      <td>감소</td>\n",
       "      <td>1.0</td>\n",
       "      <td>0.0</td>\n",
       "      <td>1.0</td>\n",
       "      <td>0.0</td>\n",
       "      <td>...</td>\n",
       "      <td>0.0</td>\n",
       "      <td>1.0</td>\n",
       "      <td>0.0</td>\n",
       "      <td>0.0</td>\n",
       "      <td>NaN</td>\n",
       "      <td>161.6</td>\n",
       "      <td>67.5</td>\n",
       "      <td>25.847650</td>\n",
       "      <td>비만</td>\n",
       "      <td>비만</td>\n",
       "    </tr>\n",
       "    <tr>\n",
       "      <th>6263</th>\n",
       "      <td>YR38368002</td>\n",
       "      <td>YR383680</td>\n",
       "      <td>남성</td>\n",
       "      <td>62</td>\n",
       "      <td>4.0</td>\n",
       "      <td>감소</td>\n",
       "      <td>0.0</td>\n",
       "      <td>0.0</td>\n",
       "      <td>1.0</td>\n",
       "      <td>1.0</td>\n",
       "      <td>...</td>\n",
       "      <td>0.0</td>\n",
       "      <td>0.0</td>\n",
       "      <td>0.0</td>\n",
       "      <td>0.0</td>\n",
       "      <td>NaN</td>\n",
       "      <td>167.5</td>\n",
       "      <td>70.5</td>\n",
       "      <td>25.128091</td>\n",
       "      <td>비만</td>\n",
       "      <td>비만</td>\n",
       "    </tr>\n",
       "    <tr>\n",
       "      <th>6264</th>\n",
       "      <td>YR38376001</td>\n",
       "      <td>YR383760</td>\n",
       "      <td>남성</td>\n",
       "      <td>52</td>\n",
       "      <td>4.0</td>\n",
       "      <td>유지</td>\n",
       "      <td>1.0</td>\n",
       "      <td>0.0</td>\n",
       "      <td>1.0</td>\n",
       "      <td>1.0</td>\n",
       "      <td>...</td>\n",
       "      <td>0.0</td>\n",
       "      <td>0.0</td>\n",
       "      <td>0.0</td>\n",
       "      <td>0.0</td>\n",
       "      <td>NaN</td>\n",
       "      <td>172.7</td>\n",
       "      <td>75.6</td>\n",
       "      <td>25.347616</td>\n",
       "      <td>비만</td>\n",
       "      <td>비만</td>\n",
       "    </tr>\n",
       "  </tbody>\n",
       "</table>\n",
       "<p>6265 rows × 22 columns</p>\n",
       "</div>"
      ],
      "text/plain": [
       "              ID    ID_fam sex  age  BO1 BO2_1  BO3_01  BO3_02  BO3_03  \\\n",
       "0     YA01220302  YA012203  여성   56  4.0    감소     1.0     0.0     1.0   \n",
       "1     YA01220303  YA012203  남성   30  4.0    감소     1.0     0.0     1.0   \n",
       "2     YA01220304  YA012203  여성   25  4.0    감소     1.0     0.0     1.0   \n",
       "3     YA01236501  YA012365  남성   66  3.0    유지     1.0     0.0     0.0   \n",
       "4     YA01236502  YA012365  여성   62  3.0    감소     1.0     0.0     0.0   \n",
       "...          ...       ...  ..  ...  ...   ...     ...     ...     ...   \n",
       "6260  YR38363902  YR383639  여성   26  2.0   노력X     8.0     8.0     8.0   \n",
       "6261  YR38365901  YR383659  남성   31  2.0    증가     8.0     8.0     8.0   \n",
       "6262  YR38368001  YR383680  여성   58  4.0    감소     1.0     0.0     1.0   \n",
       "6263  YR38368002  YR383680  남성   62  4.0    감소     0.0     0.0     1.0   \n",
       "6264  YR38376001  YR383760  남성   52  4.0    유지     1.0     0.0     1.0   \n",
       "\n",
       "      BO3_14  ...  BO3_12  BO3_07  BO3_09  BO3_10  BO3_11  HE_ht HE_wt  \\\n",
       "0        0.0  ...     0.0     0.0     0.0     0.0     NaN  151.2  60.6   \n",
       "1        0.0  ...     0.0     1.0     0.0     0.0     NaN  174.1  82.3   \n",
       "2        1.0  ...     0.0     1.0     0.0     0.0     NaN  166.4  59.0   \n",
       "3        0.0  ...     0.0     0.0     0.0     0.0     NaN  168.7  67.1   \n",
       "4        0.0  ...     0.0     0.0     0.0     0.0     NaN  157.1  53.9   \n",
       "...      ...  ...     ...     ...     ...     ...     ...    ...   ...   \n",
       "6260     8.0  ...     8.0     8.0     8.0     8.0     NaN  157.2  44.1   \n",
       "6261     8.0  ...     8.0     8.0     8.0     8.0     NaN  175.9  64.4   \n",
       "6262     0.0  ...     0.0     1.0     0.0     0.0     NaN  161.6  67.5   \n",
       "6263     1.0  ...     0.0     0.0     0.0     0.0     NaN  167.5  70.5   \n",
       "6264     1.0  ...     0.0     0.0     0.0     0.0     NaN  172.7  75.6   \n",
       "\n",
       "         HE_BMI  obesity  beauty  \n",
       "0     26.507517       비만      비만  \n",
       "1     27.152029       비만      비만  \n",
       "2     21.308131       정상      비만  \n",
       "3     23.577207       정상      정상  \n",
       "4     21.839183       정상      정상  \n",
       "...         ...      ...     ...  \n",
       "6260  17.845697      저체중      마름  \n",
       "6261  20.813935       정상      마름  \n",
       "6262  25.847650       비만      비만  \n",
       "6263  25.128091       비만      비만  \n",
       "6264  25.347616       비만      비만  \n",
       "\n",
       "[6265 rows x 22 columns]"
      ]
     },
     "execution_count": 6,
     "metadata": {},
     "output_type": "execute_result"
    }
   ],
   "source": [
    "beauty_cut = [1, 2, 3, 5, 9]\n",
    "beauty_names = ['마름', '정상', '비만', '무응답']\n",
    "data0['beauty'] = pd.cut(data0.BO1, beauty_cut, labels = beauty_names)\n",
    "data0"
   ]
  },
  {
   "cell_type": "markdown",
   "id": "929f479b-9d77-4f34-9d9b-756d46033d36",
   "metadata": {
    "jp-MarkdownHeadingCollapsed": true
   },
   "source": [
    "## 남성 데이터"
   ]
  },
  {
   "cell_type": "code",
   "execution_count": null,
   "id": "4a5048c9-c34e-4228-961c-b97247141967",
   "metadata": {},
   "outputs": [],
   "source": [
    "data_M = data0[data0.sex == 1]\n",
    "data_M"
   ]
  },
  {
   "cell_type": "markdown",
   "id": "54c0a474-861b-43d1-b2ed-4307c7b4cfca",
   "metadata": {},
   "source": [
    "### 비만도 별 주관적 체형인식"
   ]
  },
  {
   "cell_type": "code",
   "execution_count": null,
   "id": "ed0be6fc-42c9-4beb-8a26-6ec2946d1a80",
   "metadata": {},
   "outputs": [],
   "source": [
    "sns.countplot(data = data_M, x='obesity', hue = 'beauty')"
   ]
  },
  {
   "cell_type": "markdown",
   "id": "b4b733af-c596-4a32-bee6-85b069807421",
   "metadata": {
    "jp-MarkdownHeadingCollapsed": true
   },
   "source": [
    "## 여성 데이터"
   ]
  },
  {
   "cell_type": "code",
   "execution_count": null,
   "id": "6c71200b-430b-4e19-96b9-21a7b02ec00c",
   "metadata": {},
   "outputs": [],
   "source": [
    "data_F = data0[data0.sex == 2]\n",
    "data_F"
   ]
  },
  {
   "cell_type": "markdown",
   "id": "c69d8d81-1502-43b3-b521-4a3f63f8ab34",
   "metadata": {},
   "source": [
    "### 비만도 별 주관적 체형인식"
   ]
  },
  {
   "cell_type": "code",
   "execution_count": null,
   "id": "bfb4a8fe-c5e7-4a59-986e-ec38dad7b8b4",
   "metadata": {
    "scrolled": true
   },
   "outputs": [],
   "source": [
    "sns.countplot(data = data_F, x='obesity', hue = 'beauty')"
   ]
  },
  {
   "cell_type": "markdown",
   "id": "0ef1dfee-3832-405a-a0ff-0637897e30bf",
   "metadata": {},
   "source": [
    "## 여성데이터 기준으로 남성데이터 수 맞추기"
   ]
  },
  {
   "cell_type": "code",
   "execution_count": 7,
   "id": "30ca4467-9dfb-419e-ac83-388951ae3a02",
   "metadata": {},
   "outputs": [
    {
     "name": "stdout",
     "output_type": "stream",
     "text": [
      "sex\n",
      "여성    3394\n",
      "남성    3394\n",
      "Name: count, dtype: int64\n"
     ]
    },
    {
     "name": "stderr",
     "output_type": "stream",
     "text": [
      "C:\\Users\\junhwipython\\AppData\\Local\\Temp\\ipykernel_22408\\622364759.py:2: FutureWarning: The default of observed=False is deprecated and will be changed to True in a future version of pandas. Pass observed=False to retain current behavior or observed=True to adopt the future default and silence this warning.\n",
      "  female_count = female_data.groupby('obesity').size()\n"
     ]
    }
   ],
   "source": [
    "female_data = data0[data0['sex']== '여성']\n",
    "female_count = female_data.groupby('obesity').size()\n",
    "new_data_list = []\n",
    "\n",
    "for obesity_group, count in female_count.items():\n",
    "    female_subset = female_data[female_data['obesity'] == obesity_group]\n",
    "    male_subset = data0[(data0['sex']== '남성') & (data0['obesity'] == obesity_group)].sample(n=count,replace=True)\n",
    "    new_data_list.append(female_subset)\n",
    "    new_data_list.append(male_subset)\n",
    "\n",
    "new_data = pd.concat(new_data_list)\n",
    "print(new_data['sex'].value_counts())"
   ]
  },
  {
   "cell_type": "code",
   "execution_count": 9,
   "id": "e8aa7669-0a35-404e-bb90-600c3381db9a",
   "metadata": {},
   "outputs": [],
   "source": [
    "new_data_M = new_data[new_data['sex'] == '남성']\n",
    "new_data_F = new_data[new_data['sex'] == '여성']"
   ]
  },
  {
   "cell_type": "markdown",
   "id": "8713d44f-2121-404d-afe6-1c25993f3a50",
   "metadata": {},
   "source": [
    "## 성별에 따른 주관적 체형인식 정도"
   ]
  },
  {
   "cell_type": "code",
   "execution_count": 10,
   "id": "97ac9bb7-8960-432d-b957-3f21201f1657",
   "metadata": {},
   "outputs": [
    {
     "name": "stderr",
     "output_type": "stream",
     "text": [
      "C:\\Users\\junhwipython\\anaconda3\\Lib\\site-packages\\seaborn\\categorical.py:641: FutureWarning: The default of observed=False is deprecated and will be changed to True in a future version of pandas. Pass observed=False to retain current behavior or observed=True to adopt the future default and silence this warning.\n",
      "  grouped_vals = vals.groupby(grouper)\n",
      "C:\\Users\\junhwipython\\anaconda3\\Lib\\site-packages\\seaborn\\categorical.py:641: FutureWarning: The default of observed=False is deprecated and will be changed to True in a future version of pandas. Pass observed=False to retain current behavior or observed=True to adopt the future default and silence this warning.\n",
      "  grouped_vals = vals.groupby(grouper)\n"
     ]
    },
    {
     "data": {
      "text/plain": [
       "<Axes: xlabel='beauty', ylabel='count'>"
      ]
     },
     "execution_count": 10,
     "metadata": {},
     "output_type": "execute_result"
    },
    {
     "data": {
      "image/png": "[encoded data removed]",
      "text/plain": [
       "<Figure size 640x480 with 1 Axes>"
      ]
     },
     "metadata": {},
     "output_type": "display_data"
    }
   ],
   "source": [
    "sns.countplot(data = new_data, x='beauty', hue='sex', palette='Set2')"
   ]
  },
  {
   "cell_type": "markdown",
   "id": "0de09896-be72-451d-9309-9c3b2c5112f7",
   "metadata": {},
   "source": [
    "### 자신이 정상이라고 생각한 남성들의 데이터"
   ]
  },
  {
   "cell_type": "code",
   "execution_count": 9,
   "id": "f5e63e70-f09b-4baf-8a45-c5f992f92966",
   "metadata": {},
   "outputs": [
    {
     "name": "stderr",
     "output_type": "stream",
     "text": [
      "C:\\Users\\junhwipython\\anaconda3\\Lib\\site-packages\\seaborn\\_oldcore.py:1119: FutureWarning: use_inf_as_na option is deprecated and will be removed in a future version. Convert inf values to NaN before operating instead.\n",
      "  with pd.option_context('mode.use_inf_as_na', True):\n",
      "C:\\Users\\junhwipython\\anaconda3\\Lib\\site-packages\\seaborn\\_oldcore.py:1119: FutureWarning: use_inf_as_na option is deprecated and will be removed in a future version. Convert inf values to NaN before operating instead.\n",
      "  with pd.option_context('mode.use_inf_as_na', True):\n"
     ]
    },
    {
     "data": {
      "image/png": "[encoded data removed]",
      "text/plain": [
       "<Figure size 1400x600 with 2 Axes>"
      ]
     },
     "metadata": {},
     "output_type": "display_data"
    }
   ],
   "source": [
    "# 필터링\n",
    "filtered_data_M = new_data_M[(new_data_M['beauty'] == '정상') & (new_data_M['age'] > 17)]\n",
    "\n",
    "# 히스토그램 및 KDE 플롯\n",
    "plt.figure(figsize=(14, 6))\n",
    "\n",
    "# HE_ht 분포\n",
    "plt.subplot(1, 2, 1)\n",
    "sns.histplot(filtered_data_M['HE_ht'], kde=True, bins=30)\n",
    "plt.title('Height Distribution (HE_ht)')\n",
    "plt.xlabel('Height (cm)')\n",
    "plt.ylabel('Frequency')\n",
    "\n",
    "# HE_wt 분포\n",
    "plt.subplot(1, 2, 2)\n",
    "sns.histplot(filtered_data_M['HE_wt'], kde=True, bins=30)\n",
    "plt.title('Weight Distribution (HE_wt)')\n",
    "plt.xlabel('Weight (kg)')\n",
    "plt.ylabel('Frequency')\n",
    "\n",
    "\n",
    "plt.tight_layout()\n",
    "plt.show()"
   ]
  },
  {
   "cell_type": "code",
   "execution_count": 10,
   "id": "cc3b2acf-e356-4f3b-8b36-904959d68992",
   "metadata": {},
   "outputs": [
    {
     "name": "stderr",
     "output_type": "stream",
     "text": [
      "C:\\Users\\junhwipython\\anaconda3\\Lib\\site-packages\\seaborn\\_oldcore.py:1119: FutureWarning: use_inf_as_na option is deprecated and will be removed in a future version. Convert inf values to NaN before operating instead.\n",
      "  with pd.option_context('mode.use_inf_as_na', True):\n"
     ]
    },
    {
     "data": {
      "text/plain": [
       "Text(0, 0.5, 'Frequency')"
      ]
     },
     "execution_count": 10,
     "metadata": {},
     "output_type": "execute_result"
    },
    {
     "data": {
      "image/png": "[encoded data removed]",
      "text/plain": [
       "<Figure size 640x480 with 1 Axes>"
      ]
     },
     "metadata": {},
     "output_type": "display_data"
    }
   ],
   "source": [
    "# HE_BMI 분포\n",
    "plt.subplot(1, 2, 2)\n",
    "sns.histplot(filtered_data_M['HE_BMI'], kde=True, bins=30)\n",
    "plt.title('BMI Distribution (HE_BMI)')\n",
    "plt.xlabel('BMI')\n",
    "plt.ylabel('Frequency')"
   ]
  },
  {
   "cell_type": "code",
   "execution_count": 11,
   "id": "4316255c-b30c-4820-805f-0569acf68059",
   "metadata": {},
   "outputs": [
    {
     "name": "stdout",
     "output_type": "stream",
     "text": [
      "23.31940135073232\n"
     ]
    }
   ],
   "source": [
    "M_normal_BMI = new_data_M[(new_data_M['beauty'] == '정상')&(new_data_M['age']>17)]['HE_BMI']\n",
    "M_normal_BMI_mean = M_normal_BMI.mean()\n",
    "print(M_normal_BMI_mean)"
   ]
  },
  {
   "cell_type": "markdown",
   "id": "4235e367-636b-45ab-9342-8e65cea026a8",
   "metadata": {},
   "source": [
    "### 자신이 정상이라고 생각한 여성들의 데이터"
   ]
  },
  {
   "cell_type": "code",
   "execution_count": 12,
   "id": "d3362579-9e34-494a-9964-5ab74415e4ae",
   "metadata": {},
   "outputs": [
    {
     "name": "stderr",
     "output_type": "stream",
     "text": [
      "C:\\Users\\junhwipython\\anaconda3\\Lib\\site-packages\\seaborn\\_oldcore.py:1119: FutureWarning: use_inf_as_na option is deprecated and will be removed in a future version. Convert inf values to NaN before operating instead.\n",
      "  with pd.option_context('mode.use_inf_as_na', True):\n",
      "C:\\Users\\junhwipython\\anaconda3\\Lib\\site-packages\\seaborn\\_oldcore.py:1119: FutureWarning: use_inf_as_na option is deprecated and will be removed in a future version. Convert inf values to NaN before operating instead.\n",
      "  with pd.option_context('mode.use_inf_as_na', True):\n"
     ]
    },
    {
     "data": {
      "image/png": "[encoded data removed]",
      "text/plain": [
       "<Figure size 1400x600 with 2 Axes>"
      ]
     },
     "metadata": {},
     "output_type": "display_data"
    }
   ],
   "source": [
    "# 필터링\n",
    "filtered_data_F = new_data_F[(new_data_F['beauty'] == '정상') & (new_data_F['age'] > 17)]\n",
    "\n",
    "# 히스토그램 및 KDE 플롯\n",
    "plt.figure(figsize=(14, 6))\n",
    "\n",
    "# HE_ht 분포\n",
    "plt.subplot(1, 2, 1)\n",
    "sns.histplot(filtered_data_F['HE_ht'], kde=True, bins=30)\n",
    "plt.title('Height Distribution (HE_ht)')\n",
    "plt.xlabel('Height (cm)')\n",
    "plt.ylabel('Frequency')\n",
    "\n",
    "# HE_wt 분포\n",
    "plt.subplot(1, 2, 2)\n",
    "sns.histplot(filtered_data_F['HE_wt'], kde=True, bins=30)\n",
    "plt.title('Weight Distribution (HE_wt)')\n",
    "plt.xlabel('Weight (kg)')\n",
    "plt.ylabel('Frequency')\n",
    "\n",
    "\n",
    "plt.tight_layout()\n",
    "plt.show()"
   ]
  },
  {
   "cell_type": "code",
   "execution_count": 13,
   "id": "548d3018-25a4-473d-9839-7144fbe68af5",
   "metadata": {},
   "outputs": [
    {
     "name": "stderr",
     "output_type": "stream",
     "text": [
      "C:\\Users\\junhwipython\\anaconda3\\Lib\\site-packages\\seaborn\\_oldcore.py:1119: FutureWarning: use_inf_as_na option is deprecated and will be removed in a future version. Convert inf values to NaN before operating instead.\n",
      "  with pd.option_context('mode.use_inf_as_na', True):\n"
     ]
    },
    {
     "data": {
      "text/plain": [
       "Text(0, 0.5, 'Frequency')"
      ]
     },
     "execution_count": 13,
     "metadata": {},
     "output_type": "execute_result"
    },
    {
     "data": {
      "image/png": "[encoded data removed]",
      "text/plain": [
       "<Figure size 640x480 with 1 Axes>"
      ]
     },
     "metadata": {},
     "output_type": "display_data"
    }
   ],
   "source": [
    "# HE_BMI 분포\n",
    "plt.subplot(1, 2, 2)\n",
    "sns.histplot(filtered_data_F['HE_BMI'], kde=True, bins=30)\n",
    "plt.title('BMI Distribution (HE_BMI)')\n",
    "plt.xlabel('BMI')\n",
    "plt.ylabel('Frequency')"
   ]
  },
  {
   "cell_type": "code",
   "execution_count": 14,
   "id": "dd39f486-c84e-489a-b26f-db76592d0e8a",
   "metadata": {},
   "outputs": [
    {
     "name": "stdout",
     "output_type": "stream",
     "text": [
      "21.784909853684677\n"
     ]
    }
   ],
   "source": [
    "F_normal_BMI = new_data_F[(new_data_F['beauty'] == '정상')&(new_data_F['age']>17)]['HE_BMI']\n",
    "F_normal_BMI_mean = F_normal_BMI.mean()\n",
    "print(F_normal_BMI_mean)"
   ]
  },
  {
   "cell_type": "markdown",
   "id": "76629d91-77b2-4529-b7da-7e9946a182c7",
   "metadata": {},
   "source": [
    "### 남녀 간 주관적 체형인식 정도에 따른 체중조절 노력 경험\n",
    "BO2_1 체중조절 노력 경험\n",
    "(1.0 : 체중 감소를 위해 노력\n",
    "2.0 : 체중 유지를 위해 노력\n",
    "3.0 : 체중 증가를 위해 노력\n",
    "4.0 : 노력해본 적 없음\n",
    "8.0/9.0 : 무응답 및 해당없음)"
   ]
  },
  {
   "cell_type": "code",
   "execution_count": 15,
   "id": "3afdcb0d-c825-4058-98bf-5dce11a740d9",
   "metadata": {},
   "outputs": [
    {
     "data": {
      "image/png": "[encoded data removed]",
      "text/plain": [
       "<Figure size 1600x800 with 8 Axes>"
      ]
     },
     "metadata": {},
     "output_type": "display_data"
    }
   ],
   "source": [
    "custom_palette = ['#32CD32', '#4682B4', '#FF6347', '#FFD700', '#6A5ACD']\n",
    "order = ['감소', '유지', '증가', '노력X', 8.0, 9.0]\n",
    "\n",
    "g = sns.catplot(data=new_data, x='BO2_1', kind='count', col='beauty', row='sex', \n",
    "                height=4, aspect=1, palette=custom_palette, order=order)\n",
    "\n",
    "g.set_axis_labels(\"체중조절노력\", \"수\")\n",
    "g.set_titles(col_template=\"{col_name} beauty\", row_template=\"{row_name} sex\")\n",
    "\n",
    "plt.tight_layout()\n",
    "\n",
    "plt.show()"
   ]
  },
  {
   "cell_type": "markdown",
   "id": "e6433bc3-cadb-43c5-9df8-6d69d88ae946",
   "metadata": {},
   "source": [
    "#### 이 그래프가 더 나은 듯"
   ]
  },
  {
   "cell_type": "code",
   "execution_count": 41,
   "id": "12b429bc-09fc-4cad-a3e9-69ef8dcce350",
   "metadata": {},
   "outputs": [
    {
     "data": {
      "image/png": "[encoded data removed]",
      "text/plain": [
       "<Figure size 800x1600 with 8 Axes>"
      ]
     },
     "metadata": {},
     "output_type": "display_data"
    }
   ],
   "source": [
    "custom_palette = ['#32CD32', '#4682B4', '#FF6347', '#FFD700', '#6A5ACD']\n",
    "order = ['감소', '유지', '증가', '노력X', 8.0, 9.0]\n",
    "\n",
    "g = sns.catplot(data=new_data, x='BO2_1', kind='count', col='sex', row='beauty', \n",
    "                height=4, aspect=1, palette=custom_palette, order=order)\n",
    "\n",
    "g.set_axis_labels(\"체중조절노력\", \"수\")\n",
    "g.set_titles(col_template=\"성별 {col_name}\", row_template=\"beauty {row_name}\")\n",
    "\n",
    "plt.tight_layout()\n",
    "\n",
    "plt.show()"
   ]
  },
  {
   "cell_type": "markdown",
   "id": "b912bbda-d811-433f-8850-d4ee2e16e58a",
   "metadata": {},
   "source": [
    "## 남성 데이터 분석"
   ]
  },
  {
   "cell_type": "markdown",
   "id": "77a14d97-d9af-409c-9179-1bc7afe2bc05",
   "metadata": {},
   "source": [
    "### 주관적 체형인식 정도에 따른 체중조절 노력 경험\n",
    "BO2_1 : 체중조절 노력 경험\n",
    "(1.0 : 체중 감소를 위해 노력\n",
    "2.0 : 체중 유지를 위해 노력\n",
    "3.0 : 체중 증가를 위해 노력\n",
    "4.0 : 노력해본 적 없음\n",
    "8.0/9.0 : 무응답 및 해당없음)"
   ]
  },
  {
   "cell_type": "code",
   "execution_count": 42,
   "id": "37d7256c-341f-4739-bb5c-acd7c0ef3c51",
   "metadata": {},
   "outputs": [
    {
     "name": "stderr",
     "output_type": "stream",
     "text": [
      "C:\\Users\\junhwipython\\AppData\\Local\\Temp\\ipykernel_35008\\1659283599.py:2: SettingWithCopyWarning: \n",
      "A value is trying to be set on a copy of a slice from a DataFrame.\n",
      "Try using .loc[row_indexer,col_indexer] = value instead\n",
      "\n",
      "See the caveats in the documentation: https://pandas.pydata.org/pandas-docs/stable/user_guide/indexing.html#returning-a-view-versus-a-copy\n",
      "  new_data_M['BO2_1'] = new_data_M['BO2_1'].astype(str)\n"
     ]
    },
    {
     "data": {
      "text/html": [
       "<div>\n",
       "<style scoped>\n",
       "    .dataframe tbody tr th:only-of-type {\n",
       "        vertical-align: middle;\n",
       "    }\n",
       "\n",
       "    .dataframe tbody tr th {\n",
       "        vertical-align: top;\n",
       "    }\n",
       "\n",
       "    .dataframe thead th {\n",
       "        text-align: right;\n",
       "    }\n",
       "</style>\n",
       "<table border=\"1\" class=\"dataframe\">\n",
       "  <thead>\n",
       "    <tr style=\"text-align: right;\">\n",
       "      <th>BO2_1</th>\n",
       "      <th>감소</th>\n",
       "      <th>유지</th>\n",
       "      <th>증가</th>\n",
       "      <th>노력X</th>\n",
       "      <th>8.0</th>\n",
       "      <th>9.0</th>\n",
       "    </tr>\n",
       "    <tr>\n",
       "      <th>beauty</th>\n",
       "      <th></th>\n",
       "      <th></th>\n",
       "      <th></th>\n",
       "      <th></th>\n",
       "      <th></th>\n",
       "      <th></th>\n",
       "    </tr>\n",
       "  </thead>\n",
       "  <tbody>\n",
       "    <tr>\n",
       "      <th>마름</th>\n",
       "      <td>17</td>\n",
       "      <td>80</td>\n",
       "      <td>136</td>\n",
       "      <td>314</td>\n",
       "      <td>0</td>\n",
       "      <td>0</td>\n",
       "    </tr>\n",
       "    <tr>\n",
       "      <th>정상</th>\n",
       "      <td>278</td>\n",
       "      <td>333</td>\n",
       "      <td>71</td>\n",
       "      <td>696</td>\n",
       "      <td>0</td>\n",
       "      <td>2</td>\n",
       "    </tr>\n",
       "    <tr>\n",
       "      <th>비만</th>\n",
       "      <td>660</td>\n",
       "      <td>188</td>\n",
       "      <td>1</td>\n",
       "      <td>299</td>\n",
       "      <td>0</td>\n",
       "      <td>0</td>\n",
       "    </tr>\n",
       "    <tr>\n",
       "      <th>무응답</th>\n",
       "      <td>0</td>\n",
       "      <td>0</td>\n",
       "      <td>0</td>\n",
       "      <td>0</td>\n",
       "      <td>140</td>\n",
       "      <td>20</td>\n",
       "    </tr>\n",
       "  </tbody>\n",
       "</table>\n",
       "</div>"
      ],
      "text/plain": [
       "BO2_1    감소   유지   증가  노력X  8.0  9.0\n",
       "beauty                              \n",
       "마름       17   80  136  314    0    0\n",
       "정상      278  333   71  696    0    2\n",
       "비만      660  188    1  299    0    0\n",
       "무응답       0    0    0    0  140   20"
      ]
     },
     "execution_count": 42,
     "metadata": {},
     "output_type": "execute_result"
    }
   ],
   "source": [
    "# 'BO2_1' 열의 데이터 유형을 문자열로 변환\n",
    "new_data_M['BO2_1'] = new_data_M['BO2_1'].astype(str)\n",
    "\n",
    "cross_tab = pd.crosstab(new_data_M.beauty, new_data_M.BO2_1)\n",
    "\n",
    "# 순서대로 정렬된 열 이름 리스트를 생성\n",
    "desired_order = ['감소', '유지', '증가', '노력X', '8.0', '9.0']\n",
    "\n",
    "# 원하는 순서로 정렬된 크로스탭을 생성\n",
    "cross_tab = cross_tab[desired_order]\n",
    "\n",
    "# 변경된 크로스탭 출력\n",
    "cross_tab"
   ]
  },
  {
   "cell_type": "code",
   "execution_count": 12,
   "id": "27f7c33a-633e-4a26-a017-328a2f456498",
   "metadata": {},
   "outputs": [
    {
     "ename": "AttributeError",
     "evalue": "'DataFrame' object has no attribute 'BMI'",
     "output_type": "error",
     "traceback": [
      "\u001b[1;31m---------------------------------------------------------------------------\u001b[0m",
      "\u001b[1;31mAttributeError\u001b[0m                            Traceback (most recent call last)",
      "Cell \u001b[1;32mIn[12], line 1\u001b[0m\n\u001b[1;32m----> 1\u001b[0m cross_tab \u001b[38;5;241m=\u001b[39m pd\u001b[38;5;241m.\u001b[39mcrosstab(new_data_M\u001b[38;5;241m.\u001b[39mBMI, new_data_M\u001b[38;5;241m.\u001b[39mBO2_1)\n\u001b[0;32m      2\u001b[0m cross_tab\n",
      "File \u001b[1;32m~\\anaconda3\\Lib\\site-packages\\pandas\\core\\generic.py:6204\u001b[0m, in \u001b[0;36mNDFrame.__getattr__\u001b[1;34m(self, name)\u001b[0m\n\u001b[0;32m   6197\u001b[0m \u001b[38;5;28;01mif\u001b[39;00m (\n\u001b[0;32m   6198\u001b[0m     name \u001b[38;5;129;01mnot\u001b[39;00m \u001b[38;5;129;01min\u001b[39;00m \u001b[38;5;28mself\u001b[39m\u001b[38;5;241m.\u001b[39m_internal_names_set\n\u001b[0;32m   6199\u001b[0m     \u001b[38;5;129;01mand\u001b[39;00m name \u001b[38;5;129;01mnot\u001b[39;00m \u001b[38;5;129;01min\u001b[39;00m \u001b[38;5;28mself\u001b[39m\u001b[38;5;241m.\u001b[39m_metadata\n\u001b[0;32m   6200\u001b[0m     \u001b[38;5;129;01mand\u001b[39;00m name \u001b[38;5;129;01mnot\u001b[39;00m \u001b[38;5;129;01min\u001b[39;00m \u001b[38;5;28mself\u001b[39m\u001b[38;5;241m.\u001b[39m_accessors\n\u001b[0;32m   6201\u001b[0m     \u001b[38;5;129;01mand\u001b[39;00m \u001b[38;5;28mself\u001b[39m\u001b[38;5;241m.\u001b[39m_info_axis\u001b[38;5;241m.\u001b[39m_can_hold_identifiers_and_holds_name(name)\n\u001b[0;32m   6202\u001b[0m ):\n\u001b[0;32m   6203\u001b[0m     \u001b[38;5;28;01mreturn\u001b[39;00m \u001b[38;5;28mself\u001b[39m[name]\n\u001b[1;32m-> 6204\u001b[0m \u001b[38;5;28;01mreturn\u001b[39;00m \u001b[38;5;28mobject\u001b[39m\u001b[38;5;241m.\u001b[39m\u001b[38;5;21m__getattribute__\u001b[39m(\u001b[38;5;28mself\u001b[39m, name)\n",
      "\u001b[1;31mAttributeError\u001b[0m: 'DataFrame' object has no attribute 'BMI'"
     ]
    }
   ],
   "source": [
    "cross_tab = pd.crosstab(new_data_M.BMI, new_data_M.BO2_1)\n",
    "cross_tab"
   ]
  },
  {
   "cell_type": "code",
   "execution_count": 18,
   "id": "ef417fa4-7021-4d71-8b56-92a1333b5bef",
   "metadata": {},
   "outputs": [
    {
     "name": "stdout",
     "output_type": "stream",
     "text": [
      "남자 중 자신의 체형이 비만이라고 답한 사람 1148 명 중에서 1년간 체중을 감소시키려고 노력한 사람의 수 660 명\n"
     ]
    }
   ],
   "source": [
    "M000_M111_1 = new_data_M[(new_data_M['beauty'] == '비만')&(new_data_M['BO2_1']=='감소')]\n",
    "print('남자 중 자신의 체형이 비만이라고 답한 사람', len(new_data_M[new_data_M['beauty'] == '비만']), '명 중에서 1년간 체중을 감소시키려고 노력한 사람의 수', len(M000_M111_1), '명')"
   ]
  },
  {
   "cell_type": "code",
   "execution_count": 15,
   "id": "9e0b4836-8c00-468b-8f61-fd3350d8ad20",
   "metadata": {},
   "outputs": [
    {
     "data": {
      "text/html": [
       "<div>\n",
       "<style scoped>\n",
       "    .dataframe tbody tr th:only-of-type {\n",
       "        vertical-align: middle;\n",
       "    }\n",
       "\n",
       "    .dataframe tbody tr th {\n",
       "        vertical-align: top;\n",
       "    }\n",
       "\n",
       "    .dataframe thead th {\n",
       "        text-align: right;\n",
       "    }\n",
       "</style>\n",
       "<table border=\"1\" class=\"dataframe\">\n",
       "  <thead>\n",
       "    <tr style=\"text-align: right;\">\n",
       "      <th>BO2_1</th>\n",
       "      <th>감소</th>\n",
       "      <th>유지</th>\n",
       "      <th>증가</th>\n",
       "      <th>노력X</th>\n",
       "      <th>8.0</th>\n",
       "      <th>9.0</th>\n",
       "    </tr>\n",
       "    <tr>\n",
       "      <th>obesity</th>\n",
       "      <th></th>\n",
       "      <th></th>\n",
       "      <th></th>\n",
       "      <th></th>\n",
       "      <th></th>\n",
       "      <th></th>\n",
       "    </tr>\n",
       "  </thead>\n",
       "  <tbody>\n",
       "    <tr>\n",
       "      <th>저체중</th>\n",
       "      <td>44</td>\n",
       "      <td>68</td>\n",
       "      <td>162</td>\n",
       "      <td>330</td>\n",
       "      <td>253</td>\n",
       "      <td>0</td>\n",
       "    </tr>\n",
       "    <tr>\n",
       "      <th>정상</th>\n",
       "      <td>1272</td>\n",
       "      <td>940</td>\n",
       "      <td>231</td>\n",
       "      <td>1576</td>\n",
       "      <td>18</td>\n",
       "      <td>41</td>\n",
       "    </tr>\n",
       "    <tr>\n",
       "      <th>비만</th>\n",
       "      <td>1101</td>\n",
       "      <td>232</td>\n",
       "      <td>7</td>\n",
       "      <td>488</td>\n",
       "      <td>0</td>\n",
       "      <td>14</td>\n",
       "    </tr>\n",
       "  </tbody>\n",
       "</table>\n",
       "</div>"
      ],
      "text/plain": [
       "BO2_1      감소   유지   증가   노력X  8.0  9.0\n",
       "obesity                                \n",
       "저체중        44   68  162   330  253    0\n",
       "정상       1272  940  231  1576   18   41\n",
       "비만       1101  232    7   488    0   14"
      ]
     },
     "execution_count": 15,
     "metadata": {},
     "output_type": "execute_result"
    }
   ],
   "source": [
    "new_data['BO2_1'] = new_data['BO2_1'].astype(str)\n",
    "cross_tab = pd.crosstab(new_data.obesity, new_data.BO2_1)\n",
    "desired_order = ['감소', '유지', '증가', '노력X', '8.0', '9.0']\n",
    "cross_tab = cross_tab[desired_order]\n",
    "cross_tab"
   ]
  },
  {
   "cell_type": "code",
   "execution_count": 25,
   "id": "a0e466fa-6c45-4453-83b1-d509ab923f90",
   "metadata": {},
   "outputs": [
    {
     "name": "stderr",
     "output_type": "stream",
     "text": [
      "C:\\Users\\junhwipython\\anaconda3\\Lib\\site-packages\\seaborn\\categorical.py:641: FutureWarning: The default of observed=False is deprecated and will be changed to True in a future version of pandas. Pass observed=False to retain current behavior or observed=True to adopt the future default and silence this warning.\n",
      "  grouped_vals = vals.groupby(grouper)\n"
     ]
    },
    {
     "data": {
      "text/plain": [
       "<Axes: xlabel='BO2_1', ylabel='count'>"
      ]
     },
     "execution_count": 25,
     "metadata": {},
     "output_type": "execute_result"
    },
    {
     "data": {
      "image/png": "[encoded data removed]",
      "text/plain": [
       "<Figure size 640x480 with 1 Axes>"
      ]
     },
     "metadata": {},
     "output_type": "display_data"
    }
   ],
   "source": [
    "sns.countplot(data=new_data, x='BO2_1', hue='obesity')"
   ]
  },
  {
   "cell_type": "markdown",
   "id": "3172ca6b-f097-49a4-ba69-15eed9cbd55c",
   "metadata": {},
   "source": [
    "### 비만도 별 주관적 체형인식 -> 주관적 체형인식 별 비만도"
   ]
  },
  {
   "cell_type": "code",
   "execution_count": 45,
   "id": "908aea4d-3f56-4ffd-8109-92c143f87ef0",
   "metadata": {},
   "outputs": [
    {
     "name": "stderr",
     "output_type": "stream",
     "text": [
      "C:\\Users\\junhwipython\\anaconda3\\Lib\\site-packages\\seaborn\\categorical.py:641: FutureWarning: The default of observed=False is deprecated and will be changed to True in a future version of pandas. Pass observed=False to retain current behavior or observed=True to adopt the future default and silence this warning.\n",
      "  grouped_vals = vals.groupby(grouper)\n",
      "C:\\Users\\junhwipython\\anaconda3\\Lib\\site-packages\\seaborn\\categorical.py:641: FutureWarning: The default of observed=False is deprecated and will be changed to True in a future version of pandas. Pass observed=False to retain current behavior or observed=True to adopt the future default and silence this warning.\n",
      "  grouped_vals = vals.groupby(grouper)\n"
     ]
    },
    {
     "data": {
      "text/plain": [
       "<Axes: xlabel='beauty', ylabel='count'>"
      ]
     },
     "execution_count": 45,
     "metadata": {},
     "output_type": "execute_result"
    },
    {
     "data": {
      "image/png": "[encoded data removed]",
      "text/plain": [
       "<Figure size 640x480 with 1 Axes>"
      ]
     },
     "metadata": {},
     "output_type": "display_data"
    }
   ],
   "source": [
    "custom_palette = ['#4682B4', '#32CD32', '#FF6347']\n",
    "sns.countplot(data = new_data_M , x='beauty', hue = 'obesity', palette=custom_palette)"
   ]
  },
  {
   "cell_type": "code",
   "execution_count": 50,
   "id": "491e863d-7f83-42aa-a9e2-620c66289703",
   "metadata": {},
   "outputs": [
    {
     "data": {
      "text/html": [
       "<div>\n",
       "<style scoped>\n",
       "    .dataframe tbody tr th:only-of-type {\n",
       "        vertical-align: middle;\n",
       "    }\n",
       "\n",
       "    .dataframe tbody tr th {\n",
       "        vertical-align: top;\n",
       "    }\n",
       "\n",
       "    .dataframe thead th {\n",
       "        text-align: right;\n",
       "    }\n",
       "</style>\n",
       "<table border=\"1\" class=\"dataframe\">\n",
       "  <thead>\n",
       "    <tr style=\"text-align: right;\">\n",
       "      <th>obesity</th>\n",
       "      <th>비만</th>\n",
       "      <th>저체중</th>\n",
       "      <th>정상</th>\n",
       "    </tr>\n",
       "    <tr>\n",
       "      <th>beauty</th>\n",
       "      <th></th>\n",
       "      <th></th>\n",
       "      <th></th>\n",
       "    </tr>\n",
       "  </thead>\n",
       "  <tbody>\n",
       "    <tr>\n",
       "      <th>마름</th>\n",
       "      <td>5</td>\n",
       "      <td>135</td>\n",
       "      <td>407</td>\n",
       "    </tr>\n",
       "    <tr>\n",
       "      <th>정상</th>\n",
       "      <td>148</td>\n",
       "      <td>76</td>\n",
       "      <td>1156</td>\n",
       "    </tr>\n",
       "    <tr>\n",
       "      <th>비만</th>\n",
       "      <td>753</td>\n",
       "      <td>5</td>\n",
       "      <td>390</td>\n",
       "    </tr>\n",
       "    <tr>\n",
       "      <th>무응답</th>\n",
       "      <td>13</td>\n",
       "      <td>134</td>\n",
       "      <td>13</td>\n",
       "    </tr>\n",
       "  </tbody>\n",
       "</table>\n",
       "</div>"
      ],
      "text/plain": [
       "obesity   비만  저체중    정상\n",
       "beauty                 \n",
       "마름         5  135   407\n",
       "정상       148   76  1156\n",
       "비만       753    5   390\n",
       "무응답       13  134    13"
      ]
     },
     "execution_count": 50,
     "metadata": {},
     "output_type": "execute_result"
    }
   ],
   "source": [
    "pd.crosstab(new_data_M.beauty, new_data_M.obesity)"
   ]
  },
  {
   "cell_type": "code",
   "execution_count": 48,
   "id": "51169947-93fc-4ccc-8665-bc5701308cd1",
   "metadata": {},
   "outputs": [
    {
     "name": "stderr",
     "output_type": "stream",
     "text": [
      "C:\\Users\\junhwipython\\AppData\\Local\\Temp\\ipykernel_35008\\2204691002.py:2: SettingWithCopyWarning: \n",
      "A value is trying to be set on a copy of a slice from a DataFrame.\n",
      "Try using .loc[row_indexer,col_indexer] = value instead\n",
      "\n",
      "See the caveats in the documentation: https://pandas.pydata.org/pandas-docs/stable/user_guide/indexing.html#returning-a-view-versus-a-copy\n",
      "  new_data_M['obesity'] = new_data_M['obesity'].astype(str)\n"
     ]
    },
    {
     "data": {
      "image/png": "[encoded data removed]",
      "text/plain": [
       "<Figure size 640x480 with 2 Axes>"
      ]
     },
     "metadata": {},
     "output_type": "display_data"
    }
   ],
   "source": [
    "# 'obesity' 열을 문자열로 변환\n",
    "new_data_M['obesity'] = new_data_M['obesity'].astype(str)\n",
    "\n",
    "# beauty 열에서 '무응답'를 제외한 데이터만 필터링\n",
    "new_data_M_filtered = new_data_M[new_data_M['beauty'] != '무응답']\n",
    "                            (new_data['BO2_1'] != 1)&(new_data['BO2_1'] != 4)\n",
    "# 크로스탭 생성\n",
    "cross_tab = pd.crosstab(new_data_M_filtered.beauty, new_data_M_filtered.obesity, normalize='columns')\n",
    "\n",
    "# 'obesity' 열의 순서를 지정\n",
    "order = ['저체중', '정상', '비만']  # 사용자가 원하는 순서로 지정\n",
    "\n",
    "# 'obesity' 열의 순서를 지정된 순서로 재정렬\n",
    "cross_tab = cross_tab.reindex(columns=order)\n",
    "\n",
    "# 히트맵 그리기\n",
    "sns.heatmap(cross_tab, annot=True, cmap='YlGnBu', fmt=\".2f\")  # 소수점 둘째 자리까지 표시\n",
    "\n",
    "# 그래프 제목 설정\n",
    "plt.title('Beauty by Obesity')\n",
    "\n",
    "# 그래프 보여주기\n",
    "plt.show()"
   ]
  },
  {
   "cell_type": "code",
   "execution_count": 30,
   "id": "6a1acc51-4223-4af1-88e0-02e50a35ec94",
   "metadata": {},
   "outputs": [
    {
     "name": "stdout",
     "output_type": "stream",
     "text": [
      "남자 중 BMI가 정상인 사람 2042 명 중 자신의 체형이 정상이라고 답한 사람의 수 =  1156 명\n"
     ]
    }
   ],
   "source": [
    "M_0 = new_data_M[new_data_M['obesity'] == '정상']\n",
    "M_1 = new_data_M[(new_data_M['obesity'] == '정상')&(new_data_M['beauty'] == '정상')]\n",
    "print('남자 중 BMI가 정상인 사람', len(M_0), '명 중', '자신의 체형이 정상이라고 답한 사람의 수 = ', len(M_1), '명')"
   ]
  },
  {
   "cell_type": "code",
   "execution_count": 31,
   "id": "8556b180-ff01-4b22-a8b7-2e75de2d4711",
   "metadata": {},
   "outputs": [
    {
     "name": "stdout",
     "output_type": "stream",
     "text": [
      "남자 중 BMI가 정상인 사람 2042 명 중 자신의 체형이 비만이라고 답한 사람의 수 =  390 명\n"
     ]
    }
   ],
   "source": [
    "M0 = new_data_M[new_data_M['obesity'] == '정상']\n",
    "M1 = new_data_M[(new_data_M['obesity'] == '정상')&(new_data_M['beauty'] == '비만')]\n",
    "print('남자 중 BMI가 정상인 사람', len(M0), '명 중', '자신의 체형이 비만이라고 답한 사람의 수 = ', len(M1), '명')"
   ]
  },
  {
   "cell_type": "code",
   "execution_count": 32,
   "id": "3902ce41-a1ef-4aed-8f4d-e29f25dd2a23",
   "metadata": {},
   "outputs": [
    {
     "name": "stdout",
     "output_type": "stream",
     "text": [
      "남자 중 BMI가 정상인데도 자신의 체형이 비만이라고 답한 사람 390 명 중에서 1년간 체중을 감소시키려고 노력한 사람의 수 172 명\n"
     ]
    }
   ],
   "source": [
    "M0_M1_1 = new_data_M[(new_data_M['obesity'] == '정상')&(new_data_M['beauty'] == '비만')&(new_data_M['BO2_1']=='감소')]\n",
    "print('남자 중 BMI가 정상인데도 자신의 체형이 비만이라고 답한 사람', len(M1), '명 중에서 1년간 체중을 감소시키려고 노력한 사람의 수', len(M0_M1_1), '명')"
   ]
  },
  {
   "cell_type": "code",
   "execution_count": 33,
   "id": "fbb3d187-3379-4e20-9259-ef9732f88e3c",
   "metadata": {},
   "outputs": [
    {
     "name": "stdout",
     "output_type": "stream",
     "text": [
      "남자 중 BMI가 저체중인 사람 431 명 중 자신의 체형이 정상이라고 답한 사람의 수 =  76 명\n"
     ]
    }
   ],
   "source": [
    "M00 = new_data_M[new_data_M['obesity'] == '저체중']\n",
    "M11 = new_data_M[(new_data_M['obesity'] == '저체중')&(new_data_M['beauty'] == '정상')]\n",
    "print('남자 중 BMI가 저체중인 사람', len(M00), '명 중', '자신의 체형이 정상이라고 답한 사람의 수 = ', len(M11), '명')"
   ]
  },
  {
   "cell_type": "code",
   "execution_count": 34,
   "id": "46386813-c0e9-4012-8c21-2a365f2dc476",
   "metadata": {},
   "outputs": [
    {
     "name": "stdout",
     "output_type": "stream",
     "text": [
      "남자 중 BMI가 비만인 사람 921 명 중 자신의 체형이 비만이라고 답한 사람의 수 =  753 명\n"
     ]
    }
   ],
   "source": [
    "M000 = new_data_M[new_data_M['obesity'] == '비만']\n",
    "M111 = new_data_M[(new_data_M['obesity'] == '비만')&(new_data_M['beauty'] == '비만')]\n",
    "print('남자 중 BMI가 비만인 사람', len(M000), '명 중', '자신의 체형이 비만이라고 답한 사람의 수 = ', len(M111), '명')"
   ]
  },
  {
   "cell_type": "markdown",
   "id": "62f1f746-bd24-4ea3-86df-75eea593aa47",
   "metadata": {},
   "source": [
    "## 여성 데이터 분석"
   ]
  },
  {
   "cell_type": "markdown",
   "id": "abeef494-6598-4318-becb-3d6d17875a23",
   "metadata": {},
   "source": [
    "### 주관적 체형인식 정도에 따른 체중조절 노력 경험\r\n",
    "BO2_1 :체중조절 노력 경험\n",
    " (1.0 : 체중 감소를 위해 노력 2.0 : 체중 유지를 위해 노력 3.0 : 체중 증가를 위해 노력 4.0 : 노력해본 적 없음 8.0/9.0 : 무응답 및 해당없음)"
   ]
  },
  {
   "cell_type": "code",
   "execution_count": 43,
   "id": "a1e31165-8a3a-4109-be3b-de5f4dfb31b0",
   "metadata": {},
   "outputs": [
    {
     "name": "stderr",
     "output_type": "stream",
     "text": [
      "C:\\Users\\junhwipython\\AppData\\Local\\Temp\\ipykernel_35008\\3099484218.py:2: SettingWithCopyWarning: \n",
      "A value is trying to be set on a copy of a slice from a DataFrame.\n",
      "Try using .loc[row_indexer,col_indexer] = value instead\n",
      "\n",
      "See the caveats in the documentation: https://pandas.pydata.org/pandas-docs/stable/user_guide/indexing.html#returning-a-view-versus-a-copy\n",
      "  new_data_F['BO2_1'] = new_data_F['BO2_1'].astype(str)\n"
     ]
    },
    {
     "data": {
      "text/html": [
       "<div>\n",
       "<style scoped>\n",
       "    .dataframe tbody tr th:only-of-type {\n",
       "        vertical-align: middle;\n",
       "    }\n",
       "\n",
       "    .dataframe tbody tr th {\n",
       "        vertical-align: top;\n",
       "    }\n",
       "\n",
       "    .dataframe thead th {\n",
       "        text-align: right;\n",
       "    }\n",
       "</style>\n",
       "<table border=\"1\" class=\"dataframe\">\n",
       "  <thead>\n",
       "    <tr style=\"text-align: right;\">\n",
       "      <th>BO2_1</th>\n",
       "      <th>감소</th>\n",
       "      <th>유지</th>\n",
       "      <th>증가</th>\n",
       "      <th>노력X</th>\n",
       "      <th>8.0</th>\n",
       "      <th>9.0</th>\n",
       "    </tr>\n",
       "    <tr>\n",
       "      <th>beauty</th>\n",
       "      <th></th>\n",
       "      <th></th>\n",
       "      <th></th>\n",
       "      <th></th>\n",
       "      <th></th>\n",
       "      <th></th>\n",
       "    </tr>\n",
       "  </thead>\n",
       "  <tbody>\n",
       "    <tr>\n",
       "      <th>마름</th>\n",
       "      <td>38</td>\n",
       "      <td>72</td>\n",
       "      <td>45</td>\n",
       "      <td>179</td>\n",
       "      <td>0</td>\n",
       "      <td>0</td>\n",
       "    </tr>\n",
       "    <tr>\n",
       "      <th>정상</th>\n",
       "      <td>443</td>\n",
       "      <td>348</td>\n",
       "      <td>24</td>\n",
       "      <td>452</td>\n",
       "      <td>0</td>\n",
       "      <td>0</td>\n",
       "    </tr>\n",
       "    <tr>\n",
       "      <th>비만</th>\n",
       "      <td>1006</td>\n",
       "      <td>208</td>\n",
       "      <td>5</td>\n",
       "      <td>328</td>\n",
       "      <td>0</td>\n",
       "      <td>0</td>\n",
       "    </tr>\n",
       "    <tr>\n",
       "      <th>무응답</th>\n",
       "      <td>0</td>\n",
       "      <td>0</td>\n",
       "      <td>0</td>\n",
       "      <td>0</td>\n",
       "      <td>103</td>\n",
       "      <td>37</td>\n",
       "    </tr>\n",
       "  </tbody>\n",
       "</table>\n",
       "</div>"
      ],
      "text/plain": [
       "BO2_1     감소   유지  증가  노력X  8.0  9.0\n",
       "beauty                              \n",
       "마름        38   72  45  179    0    0\n",
       "정상       443  348  24  452    0    0\n",
       "비만      1006  208   5  328    0    0\n",
       "무응답        0    0   0    0  103   37"
      ]
     },
     "execution_count": 43,
     "metadata": {},
     "output_type": "execute_result"
    }
   ],
   "source": [
    "# 'BO2_1' 열의 데이터 유형을 문자열로 변환\n",
    "new_data_F['BO2_1'] = new_data_F['BO2_1'].astype(str)\n",
    "\n",
    "cross_tab = pd.crosstab(new_data_F.beauty, new_data_F.BO2_1)\n",
    "\n",
    "# 순서대로 정렬된 열 이름 리스트를 생성\n",
    "desired_order = ['감소', '유지', '증가', '노력X', '8.0', '9.0']\n",
    "\n",
    "# 원하는 순서로 정렬된 크로스탭을 생성\n",
    "cross_tab = cross_tab[desired_order]\n",
    "\n",
    "# 변경된 크로스탭 출력\n",
    "cross_tab"
   ]
  },
  {
   "cell_type": "code",
   "execution_count": 26,
   "id": "87c6614a-ab6e-4bd0-92fa-3b3d782e2715",
   "metadata": {},
   "outputs": [
    {
     "name": "stdout",
     "output_type": "stream",
     "text": [
      "여자 중 자신의 체형이 비만이라고 답한 사람 1547 명 중에서 1년간 체중을 감소시키려고 노력한 사람의 수 1006 명\n"
     ]
    }
   ],
   "source": [
    "F000_F111_1 = new_data_F[(new_data_F['beauty'] == '비만')&(new_data_F['BO2_1']=='감소')]\n",
    "print('여자 중 자신의 체형이 비만이라고 답한 사람', len(new_data_F[new_data_F['beauty'] == '비만']), '명 중에서 1년간 체중을 감소시키려고 노력한 사람의 수', len(F000_F111_1), '명')"
   ]
  },
  {
   "cell_type": "markdown",
   "id": "a0f3020c-fc02-4acf-9be8-97da0f33c4a8",
   "metadata": {},
   "source": [
    "### 비만도 별 주관적 체형인식"
   ]
  },
  {
   "cell_type": "code",
   "execution_count": 46,
   "id": "48ed1766-a7bc-40d8-bf7a-c48baaa71911",
   "metadata": {},
   "outputs": [
    {
     "name": "stderr",
     "output_type": "stream",
     "text": [
      "C:\\Users\\junhwipython\\anaconda3\\Lib\\site-packages\\seaborn\\categorical.py:641: FutureWarning: The default of observed=False is deprecated and will be changed to True in a future version of pandas. Pass observed=False to retain current behavior or observed=True to adopt the future default and silence this warning.\n",
      "  grouped_vals = vals.groupby(grouper)\n",
      "C:\\Users\\junhwipython\\anaconda3\\Lib\\site-packages\\seaborn\\categorical.py:641: FutureWarning: The default of observed=False is deprecated and will be changed to True in a future version of pandas. Pass observed=False to retain current behavior or observed=True to adopt the future default and silence this warning.\n",
      "  grouped_vals = vals.groupby(grouper)\n"
     ]
    },
    {
     "data": {
      "text/plain": [
       "<Axes: xlabel='beauty', ylabel='count'>"
      ]
     },
     "execution_count": 46,
     "metadata": {},
     "output_type": "execute_result"
    },
    {
     "data": {
      "image/png": "[encoded data removed]",
      "text/plain": [
       "<Figure size 640x480 with 1 Axes>"
      ]
     },
     "metadata": {},
     "output_type": "display_data"
    }
   ],
   "source": [
    "custom_palette = ['#4682B4', '#32CD32', '#FF6347']\n",
    "sns.countplot(data = new_data_F , x='beauty', hue = 'obesity', palette=custom_palette)"
   ]
  },
  {
   "cell_type": "code",
   "execution_count": 28,
   "id": "4605c81e-8ffb-4d64-b096-3f18b72ae394",
   "metadata": {},
   "outputs": [
    {
     "data": {
      "text/html": [
       "<div>\n",
       "<style scoped>\n",
       "    .dataframe tbody tr th:only-of-type {\n",
       "        vertical-align: middle;\n",
       "    }\n",
       "\n",
       "    .dataframe tbody tr th {\n",
       "        vertical-align: top;\n",
       "    }\n",
       "\n",
       "    .dataframe thead th {\n",
       "        text-align: right;\n",
       "    }\n",
       "</style>\n",
       "<table border=\"1\" class=\"dataframe\">\n",
       "  <thead>\n",
       "    <tr style=\"text-align: right;\">\n",
       "      <th>obesity</th>\n",
       "      <th>저체중</th>\n",
       "      <th>정상</th>\n",
       "      <th>비만</th>\n",
       "    </tr>\n",
       "    <tr>\n",
       "      <th>beauty</th>\n",
       "      <th></th>\n",
       "      <th></th>\n",
       "      <th></th>\n",
       "    </tr>\n",
       "  </thead>\n",
       "  <tbody>\n",
       "    <tr>\n",
       "      <th>마름</th>\n",
       "      <td>161</td>\n",
       "      <td>167</td>\n",
       "      <td>6</td>\n",
       "    </tr>\n",
       "    <tr>\n",
       "      <th>정상</th>\n",
       "      <td>116</td>\n",
       "      <td>1063</td>\n",
       "      <td>88</td>\n",
       "    </tr>\n",
       "    <tr>\n",
       "      <th>비만</th>\n",
       "      <td>4</td>\n",
       "      <td>724</td>\n",
       "      <td>819</td>\n",
       "    </tr>\n",
       "    <tr>\n",
       "      <th>무응답</th>\n",
       "      <td>93</td>\n",
       "      <td>39</td>\n",
       "      <td>8</td>\n",
       "    </tr>\n",
       "  </tbody>\n",
       "</table>\n",
       "</div>"
      ],
      "text/plain": [
       "obesity  저체중    정상   비만\n",
       "beauty                 \n",
       "마름       161   167    6\n",
       "정상       116  1063   88\n",
       "비만         4   724  819\n",
       "무응답       93    39    8"
      ]
     },
     "execution_count": 28,
     "metadata": {},
     "output_type": "execute_result"
    }
   ],
   "source": [
    "pd.crosstab(new_data_F.beauty, new_data_F.obesity)"
   ]
  },
  {
   "cell_type": "code",
   "execution_count": 47,
   "id": "63ca35af-a82c-4ee2-a97e-7a7a58b12b6e",
   "metadata": {},
   "outputs": [
    {
     "name": "stderr",
     "output_type": "stream",
     "text": [
      "C:\\Users\\junhwipython\\AppData\\Local\\Temp\\ipykernel_35008\\2464311565.py:2: SettingWithCopyWarning: \n",
      "A value is trying to be set on a copy of a slice from a DataFrame.\n",
      "Try using .loc[row_indexer,col_indexer] = value instead\n",
      "\n",
      "See the caveats in the documentation: https://pandas.pydata.org/pandas-docs/stable/user_guide/indexing.html#returning-a-view-versus-a-copy\n",
      "  new_data_F['obesity'] = new_data_F['obesity'].astype(str)\n"
     ]
    },
    {
     "data": {
      "image/png": "[encoded data removed]",
      "text/plain": [
       "<Figure size 640x480 with 2 Axes>"
      ]
     },
     "metadata": {},
     "output_type": "display_data"
    }
   ],
   "source": [
    "# 'obesity' 열을 문자열로 변환\n",
    "new_data_F['obesity'] = new_data_F['obesity'].astype(str)\n",
    "\n",
    "# beauty 열에서 '무응답'를 제외한 데이터만 필터링\n",
    "new_data_F_filtered = new_data_F[new_data_F['beauty'] != '무응답']\n",
    "\n",
    "# 크로스탭 생성\n",
    "cross_tab = pd.crosstab(new_data_F_filtered.beauty, new_data_F_filtered.obesity, normalize='columns')\n",
    "\n",
    "# 'obesity' 열의 순서를 지정\n",
    "order = ['저체중', '정상', '비만']  # 사용자가 원하는 순서로 지정\n",
    "\n",
    "# 'obesity' 열의 순서를 지정된 순서로 재정렬\n",
    "cross_tab = cross_tab.reindex(columns=order)\n",
    "\n",
    "# 히트맵 그리기\n",
    "sns.heatmap(cross_tab, annot=True, cmap='YlGnBu', fmt=\".2f\")  # 소수점 둘째 자리까지 표시\n",
    "\n",
    "# 그래프 제목 설정\n",
    "plt.title('Beauty by Obesity')\n",
    "\n",
    "# 그래프 보여주기\n",
    "plt.show()"
   ]
  },
  {
   "cell_type": "code",
   "execution_count": 35,
   "id": "b4d03ec3-d7b1-40d8-9f90-5e81fa3135a0",
   "metadata": {},
   "outputs": [
    {
     "name": "stdout",
     "output_type": "stream",
     "text": [
      "여자 중 BMI가 정상인 사람 2042 명 중 자신의 체형이 정상이라고 답한 사람의 수 =  1063 명\n"
     ]
    }
   ],
   "source": [
    "F_0 = new_data_F[new_data_F['obesity'] == '정상']\n",
    "F_1 = new_data_F[(new_data_F['obesity'] == '정상')&(new_data_F['beauty'] == '정상')]\n",
    "print('여자 중 BMI가 정상인 사람', len(F_0), '명 중', '자신의 체형이 정상이라고 답한 사람의 수 = ', len(F_1), '명')"
   ]
  },
  {
   "cell_type": "code",
   "execution_count": 36,
   "id": "446b0445-1abc-489a-8487-d1bc3a94d43b",
   "metadata": {},
   "outputs": [
    {
     "name": "stdout",
     "output_type": "stream",
     "text": [
      "여자 중 BMI가 정상인 사람 2042 명 중 자신의 체형이 비만이라고 답한 사람의 수 =  724 명\n"
     ]
    }
   ],
   "source": [
    "F0 = new_data_F[new_data_F['obesity'] == '정상']\n",
    "F1 = new_data_F[(new_data_F['obesity'] == '정상')&(new_data_F['beauty'] == '비만')]\n",
    "print('여자 중 BMI가 정상인 사람', len(F0), '명 중', '자신의 체형이 비만이라고 답한 사람의 수 = ', len(F1), '명')"
   ]
  },
  {
   "cell_type": "code",
   "execution_count": 37,
   "id": "cfbfccf7-1661-4810-938c-42e52df09918",
   "metadata": {},
   "outputs": [
    {
     "name": "stdout",
     "output_type": "stream",
     "text": [
      "여자 중 BMI가 정상인데도 자신의 체형이 비만이라고 답한 사람 724 명 중에서 1년간 체중을 감소시키려고 노력한 사람의 수 439 명\n"
     ]
    }
   ],
   "source": [
    "F0_F1_1 = new_data_F[(new_data_F['obesity'] == '정상')&(new_data_F['beauty'] == '비만')&(new_data_F['BO2_1']=='감소')]\n",
    "print('여자 중 BMI가 정상인데도 자신의 체형이 비만이라고 답한 사람', len(F1), '명 중에서 1년간 체중을 감소시키려고 노력한 사람의 수', len(F0_F1_1), '명')"
   ]
  },
  {
   "cell_type": "code",
   "execution_count": 38,
   "id": "063a91c5-a438-4872-947d-e207d401617f",
   "metadata": {},
   "outputs": [
    {
     "name": "stdout",
     "output_type": "stream",
     "text": [
      "여자 중 BMI가 저체중인 사람 431 명 중 자신의 체형이 정상이라고 답한 사람의 수 =  116 명\n"
     ]
    }
   ],
   "source": [
    "F00 = new_data_F[new_data_F['obesity'] == '저체중']\n",
    "F11 = new_data_F[(new_data_F['obesity'] == '저체중')&(new_data_F['beauty'] == '정상')]\n",
    "print('여자 중 BMI가 저체중인 사람', len(F00), '명 중', '자신의 체형이 정상이라고 답한 사람의 수 = ', len(F11), '명')"
   ]
  },
  {
   "cell_type": "code",
   "execution_count": 39,
   "id": "ec4bce10-34d5-44f2-9fb2-6bf42975a591",
   "metadata": {},
   "outputs": [
    {
     "name": "stdout",
     "output_type": "stream",
     "text": [
      "여자 중 BMI가 비만인 사람 921 명 중 자신의 체형이 비만이라고 답한 사람의 수 =  819 명\n"
     ]
    }
   ],
   "source": [
    "F000 = new_data_F[new_data_F['obesity'] == '비만']\n",
    "F111 = new_data_F[(new_data_F['obesity'] == '비만')&(new_data_F['beauty'] == '비만')]\n",
    "print('여자 중 BMI가 비만인 사람', len(F000), '명 중', '자신의 체형이 비만이라고 답한 사람의 수 = ', len(F111), '명')"
   ]
  }
 ],
 "metadata": {
  "kernelspec": {
   "display_name": "Python 3 (ipykernel)",
   "language": "python",
   "name": "python3"
  },
  "language_info": {
   "codemirror_mode": {
    "name": "ipython",
    "version": 3
   },
   "file_extension": ".py",
   "mimetype": "text/x-python",
   "name": "python",
   "nbconvert_exporter": "python",
   "pygments_lexer": "ipython3",
   "version": "3.11.7"
  }
 },
 "nbformat": 4,
 "nbformat_minor": 5
}
